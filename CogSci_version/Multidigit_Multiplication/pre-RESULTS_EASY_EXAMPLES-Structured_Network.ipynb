{
 "cells": [
  {
   "cell_type": "code",
   "execution_count": 2,
   "id": "7e67e4db-f139-4bde-b30e-e68e37779b8a",
   "metadata": {},
   "outputs": [],
   "source": [
    "import pandas as pd\n",
    "import numpy as np\n",
    "import math\n",
    "\n",
    "import jax\n",
    "import jax.numpy as jnp\n",
    "from jax import random, grad\n",
    "from jax.nn import relu, sigmoid\n",
    "from functools import partial\n",
    "\n",
    "import matplotlib.pyplot as plt\n",
    "\n",
    "import pytz\n",
    "import os\n",
    "import re\n",
    "import sys\n",
    "import pickle\n",
    "from datetime import datetime"
   ]
  },
  {
   "cell_type": "code",
   "execution_count": 3,
   "id": "bffda365-fe70-43e8-a0dc-7208a871561e",
   "metadata": {},
   "outputs": [],
   "source": [
    "# Define network parameters\n",
    "def initialize_random_weights(mean, std, shape = ()):\n",
    "    return np.random.normal(loc=mean, scale=std, size=shape)\n",
    "    \n",
    "# We use a 2-degree polynomial function to approximate 0 and 1/2 to 0 and 1 stays in 1\n",
    "def polynomial_function(x):\n",
    "    return 2 * (x ** 2) - x\n",
    "\n",
    "# We use a sinusoidal function to approximate odd numbers by their immediately preceding even number and preserve differentiability\n",
    "def lower_even(x):\n",
    "    return x - 0.5 * (1 - jnp.cos(jnp.pi * x))\n",
    "\n",
    "# We use a sinusoidal function to approximate 0 for evens and 1 for odds while preserving differentiability\n",
    "def differentiable_even_or_odd(x):\n",
    "    return 0.5 * (1 - jnp.cos(jnp.pi * x))\n",
    "    \n",
    "# Function to generate dataset with multiplication\n",
    "def generate_dataset_with_zeros(size, n_max=10):\n",
    "    # Generate two columns of random numbers between 0 and 9\n",
    "    column_1 = np.random.randint(0, n_max, size)\n",
    "    column_2 = np.random.randint(0, n_max, size)\n",
    "\n",
    "    # Create a DataFrame with the two columns\n",
    "    dataset = pd.DataFrame({\n",
    "        'Column_1': column_1,\n",
    "        'Column_2': column_2\n",
    "    })\n",
    "\n",
    "    # Create the third column by multiplying the first two\n",
    "    dataset['Column_3'] = dataset['Column_1'] * dataset['Column_2']\n",
    "\n",
    "    return dataset\n",
    "\n",
    "def generate_dataset_without_zeros(size, n_max=10):\n",
    "    # Generate two columns of random numbers between 1 and 9\n",
    "    column_1 = np.random.randint(1, n_max, size)\n",
    "    column_2 = np.random.randint(1, n_max, size)\n",
    "\n",
    "    # Create a DataFrame with the two columns\n",
    "    dataset = pd.DataFrame({\n",
    "        'Column_1': column_1,\n",
    "        'Column_2': column_2\n",
    "    })\n",
    "\n",
    "    # Create the third column by multiplying the first two\n",
    "    dataset['Column_3'] = dataset['Column_1'] * dataset['Column_2']\n",
    "\n",
    "    return dataset\n",
    "\n",
    "def generate_test_dataset(n_max=10):\n",
    "    # Create the columns\n",
    "    column_1 = list(range(n_max)) * n_max  # Numbers from 0 to 9 repeated 10 times\n",
    "    column_2 = [i for i in range(n_max) for _ in range(n_max)]  # Numbers from 0 to 9 repeated sequentially 10 times\n",
    "\n",
    "    # Create a DataFrame with the two columns\n",
    "    dataset = pd.DataFrame({\n",
    "        'Column_1': column_1,\n",
    "        'Column_2': column_2,\n",
    "    })\n",
    "\n",
    "    # Create the third column by multiplying the first two\n",
    "    dataset['Column_3'] = dataset['Column_1'] * dataset['Column_2']\n",
    "\n",
    "    return dataset\n",
    "\n",
    "\n",
    "def decimal_to_binary(n, bits):\n",
    "    if 0 <= n < 2**bits:\n",
    "        # Convert the number to a binary string and then to an array of integers (0 and 1)\n",
    "        return np.array(list(format(n, f'0{bits}b'))).astype(np.int8)\n",
    "    else:\n",
    "        raise ValueError(\"Number out of range\")\n",
    "\n",
    "# Function to convert binary number to decimal\n",
    "def binary_to_decimal(binary_vector, bits):\n",
    "    # Ensure the vector has the correct number of elements\n",
    "    if len(binary_vector) != bits:\n",
    "        raise ValueError(f\"The vector must have exactly {bits} elements.\")\n",
    "\n",
    "    # Calculate the decimal number\n",
    "    decimal = 0\n",
    "    for i in range(bits):\n",
    "        decimal += binary_vector[i] * (2 ** (bits - 1 - i))\n",
    "\n",
    "    return decimal\n",
    "\n",
    "def transform_to_tridimensional_matrix(dataset, bits_init=4, bits_end=7):\n",
    "    rows, cols = dataset.shape\n",
    "    if cols != 3:\n",
    "        raise ValueError(\"The dataset must have exactly 3 columns.\")\n",
    "\n",
    "    # Initialize the three matrices\n",
    "    matrix_column_1 = np.zeros((rows, bits_init), dtype=np.int8)\n",
    "    matrix_column_2 = np.zeros((rows, bits_init), dtype=np.int8)\n",
    "    matrix_column_3 = np.zeros((rows, bits_end), dtype=np.int8)\n",
    "\n",
    "    # Fill the matrices with the binary representation of each column\n",
    "    for i in range(rows):\n",
    "        matrix_column_1[i] = decimal_to_binary(dataset.iloc[i, 0], bits_init)\n",
    "        matrix_column_2[i] = decimal_to_binary(dataset.iloc[i, 1], bits_init)\n",
    "        matrix_column_3[i] = decimal_to_binary(dataset.iloc[i, 2], bits_end)\n",
    "\n",
    "    return matrix_column_1, matrix_column_2, matrix_column_3\n",
    "    \n",
    "    \n",
    "def prepare_dataset(level, size=1, couples_included=[]): \n",
    "    if level == -3:\n",
    "        column_1 = []\n",
    "        column_2 = []\n",
    "        pairs = couples_included\n",
    "        while len(column_1) < size:\n",
    "            choice = pairs[np.random.choice(len(pairs))]\n",
    "            column_1.append(choice[0])\n",
    "            column_2.append(choice[1])\n",
    "        dataset = pd.DataFrame({'Column_1': column_1,'Column_2': column_2,})\n",
    "        dataset['Column_3'] = dataset['Column_1'] * dataset['Column_2']\n",
    "        return dataset\n",
    "\n",
    "    elif level == -2:\n",
    "        dataset = generate_dataset_with_zeros(size)\n",
    "        return dataset\n",
    "        \n",
    "    elif level == -1:\n",
    "        dataset = generate_dataset_without_zeros(size)\n",
    "        return dataset\n",
    "\n",
    "    elif level == 0:\n",
    "        couples_not_included = [(3, 3), (5, 5), (6, 6), (7, 7), (9, 9), (3, 6), (3, 7), (6, 3), (7, 3), (5, 7), (7, 5), (6, 7), (7, 6)]\n",
    "        dataset = pd.DataFrame()\n",
    "        while len(dataset) < size:\n",
    "            column_1 = np.random.randint(1, 10, size)\n",
    "            column_2 = np.random.randint(1, 10, size)\n",
    "            temp_dataset = pd.DataFrame({'Column_1': column_1, 'Column_2': column_2})\n",
    "            temp_dataset = temp_dataset[~temp_dataset[['Column_1', 'Column_2']].apply(tuple, axis=1).isin(couples_not_included)]\n",
    "            dataset = pd.concat([dataset, temp_dataset])\n",
    "        dataset = dataset.iloc[:size].reset_index(drop=True)\n",
    "        dataset['Column_3'] = dataset['Column_1'] * dataset['Column_2']\n",
    "        return dataset\n",
    "\n",
    "    elif level == 1:\n",
    "        column_1 = []\n",
    "        column_2 = []\n",
    "        pairs = [(5, 5), (9, 9)]\n",
    "        while len(column_1) < size:\n",
    "            choice = pairs[np.random.choice(len(pairs))]\n",
    "            column_1.append(choice[0])\n",
    "            column_2.append(choice[1])\n",
    "        dataset = pd.DataFrame({'Column_1': column_1,'Column_2': column_2,})\n",
    "        dataset['Column_3'] = dataset['Column_1'] * dataset['Column_2']\n",
    "        return dataset\n",
    "\n",
    "    elif level == 2:\n",
    "        column_1 = []\n",
    "        column_2 = []\n",
    "        pairs = [(3, 3), (6, 6), (3, 6), (6, 3), (5, 7), (7, 5)]\n",
    "        while len(column_1) < size:\n",
    "            choice = pairs[np.random.choice(len(pairs))]\n",
    "            column_1.append(choice[0])\n",
    "            column_2.append(choice[1])\n",
    "        dataset = pd.DataFrame({'Column_1': column_1,'Column_2': column_2,})\n",
    "        dataset['Column_3'] = dataset['Column_1'] * dataset['Column_2']\n",
    "        return dataset\n",
    "\n",
    "    elif level == 3:\n",
    "        column_1 = []\n",
    "        column_2 = []\n",
    "        pairs = [(3, 7), (6, 7), (7, 3), (7, 6)]\n",
    "        while len(column_1) < size:\n",
    "            choice = pairs[np.random.choice(len(pairs))]\n",
    "            column_1.append(choice[0])\n",
    "            column_2.append(choice[1])\n",
    "        dataset = pd.DataFrame({'Column_1': column_1,'Column_2': column_2,})\n",
    "        dataset['Column_3'] = dataset['Column_1'] * dataset['Column_2']\n",
    "        return dataset\n",
    "\n",
    "    elif level == 4:\n",
    "        column_1 = [7] * size\n",
    "        column_2 = [7] * size\n",
    "        dataset = pd.DataFrame({'Column_1': column_1,'Column_2': column_2,})\n",
    "        dataset['Column_3'] = dataset['Column_1'] * dataset['Column_2']\n",
    "        return dataset\n",
    "\n",
    "    elif level == 5:\n",
    "        column_1 = []\n",
    "        column_2 = []\n",
    "        pairs = [(3, 3), (5, 5), (6, 6), (7, 7), (9, 9), (3, 6), (3, 7), (6, 3), (7, 3), (5, 7), (7, 5), (6, 7), (7, 6)]\n",
    "        while len(column_1) < size:\n",
    "            choice = pairs[np.random.choice(len(pairs))]\n",
    "            column_1.append(choice[0])\n",
    "            column_2.append(choice[1])\n",
    "        dataset = pd.DataFrame({'Column_1': column_1,'Column_2': column_2,})\n",
    "        dataset['Column_3'] = dataset['Column_1'] * dataset['Column_2']\n",
    "        return dataset\n",
    "\n",
    "    else:\n",
    "        print('Bad index for the training stage.')\n",
    "        return None\n",
    "\n",
    "def prepare_outputs(stage, inputs_1, inputs_2, outputs_prev):\n",
    "    if stage == 1:\n",
    "        return np.array([np.outer(vec2, vec1).flatten() for vec1, vec2 in zip(inputs_1, inputs_2)])\n",
    "\n",
    "    elif stage == 2:\n",
    "        outputs = []\n",
    "        matrix_step_2 = np.zeros((16, 28))\n",
    "        for i in range(4):\n",
    "            for j in range(4):\n",
    "                matrix_step_2[i*4 + j, i*8 + j] = 1\n",
    "        for vec1, vec2 in zip(inputs_1, inputs_2):\n",
    "            outer_product = np.outer(vec2, vec1)\n",
    "            flatten_vector = jnp.dot(outer_product.flatten(), matrix_step_2)\n",
    "            outputs.append(flatten_vector)\n",
    "        return np.array(outputs)\n",
    "\n",
    "    elif stage == 3:\n",
    "        outputs = []\n",
    "        for vec1, vec2 in zip(inputs_1, inputs_2):\n",
    "            outer_product = np.outer(vec2, vec1)\n",
    "            z3 = lower_even(outer_product[2,3] + outer_product[3,2])\n",
    "            z4 = lower_even(outer_product[1,3] + outer_product[2,2] + outer_product[3,1] + z3 * 1/2)\n",
    "            z5 = lower_even(outer_product[0,3] + outer_product[1,2] + outer_product[2,1] + outer_product[3,0] + z4 * 1/2)\n",
    "            z6 = lower_even(outer_product[0,2] + outer_product[1,1] + outer_product[2,0] + z5 * 1/2)\n",
    "            z7 = lower_even(outer_product[0,1] + outer_product[1,0] + z6 * 1/2)\n",
    "            outputs.append([z7, z6, z5, z4, z3, 0, 0])\n",
    "        return np.array(outputs)\n",
    "\n",
    "    elif stage == 4:\n",
    "        return outputs_prev\n",
    "\n",
    "    elif stage == 5:\n",
    "        return outputs_prev\n",
    "\n",
    "    else:\n",
    "        print('Bad index for the training stage.')\n",
    "        return None\n",
    "        \n",
    "# Perfect parameters needed for the stages where a part of the NN performs perfectly\n",
    "\n",
    "# Create the W1_perfect matrix of zeros with dimensions (8,16)\n",
    "W1_perfect = np.zeros((8, 16))\n",
    "# Introduce the correct numbers to multiply\n",
    "for k in range(4):\n",
    "    for i in range(4):\n",
    "        W1_perfect[i, 12+i-k*4] = 1/2\n",
    "        W1_perfect[4+i, 4*i:4*i+4] = 1/2\n",
    "\n",
    "# Create the W2_perfect matrix of zeros with dimensions (16,28)\n",
    "W2_perfect = np.zeros((16, 28))\n",
    "\n",
    "# Correctly place the 7-bit vectors\n",
    "for i in range(4):\n",
    "    for j in range(4):\n",
    "        W2_perfect[i*4 + j, i*8 + j] = 1\n",
    "\n",
    "# R vectors of dimension (28,1)\n",
    "R3_perfect = np.zeros((28))\n",
    "R4_perfect = np.zeros((28))\n",
    "R5_perfect = np.zeros((28))\n",
    "R6_perfect = np.zeros((28))\n",
    "R7_perfect = np.zeros((28))\n",
    "\n",
    "for i in range(4):\n",
    "    R3_perfect[7*i + 5] = 1\n",
    "    R4_perfect[7*i + 4] = 1\n",
    "    R5_perfect[7*i + 3] = 1\n",
    "    R6_perfect[7*i + 2] = 1\n",
    "    R7_perfect[7*i + 1] = 1\n",
    "\n",
    "# Scalar parameters v\n",
    "v3_perfect = 1/2\n",
    "v4_perfect = 1/2\n",
    "v5_perfect = 1/2\n",
    "v6_perfect = 1/2\n",
    "\n",
    "# Matrix T of dimension (28,7)\n",
    "T_perfect = np.zeros((28,7))\n",
    "\n",
    "for i in range(7):\n",
    "    for j in range(4):\n",
    "        T_perfect[7*j + i, i] = 1\n",
    "\n",
    "# Parameter v7\n",
    "v7_perfect = 1/2\n",
    "\n",
    "# Neural network in every stage\n",
    "\n",
    "def neural_network_1(params, x1, x2):\n",
    "    W1, h = params\n",
    "    x = jnp.concatenate((x1, x2), axis=0)\n",
    "    prev_vec = polynomial_function(jnp.dot(x, W1)) # Multiplies values, prev_vec is a (1,8) matrix\n",
    "    #vec = jnp.dot(prev_vec, W2) # vec is a (1,28) dimensional vector\n",
    "    #z3 = lower_even(relu(jnp.dot(vec, R3))) # z3 is a scalar with the second carry over\n",
    "    #z4 = lower_even(relu(jnp.dot(vec, R4) + jnp.dot(z3, v3))) # z4 is a scalar with the third carry over\n",
    "    #z5 = lower_even(relu(jnp.dot(vec, R5) + jnp.dot(z4, v4))) # z5 is a scalar with the fourth carry over\n",
    "    #z6 = lower_even(relu(jnp.dot(vec, R6) + jnp.dot(z5, v5))) # z6 is a scalar with the fifth carry over\n",
    "    #z7 = lower_even(relu(jnp.dot(vec, R7) + jnp.dot(z6, v6))) # z7 is a scalar with the seventh carry over\n",
    "    #z = jnp.array([z7, z6, z5, z4, z3, 0, 0])\n",
    "    #y = differentiable_even_or_odd(relu(jnp.dot(vec, T) + jnp.dot(z, v7)))\n",
    "    return prev_vec\n",
    "\n",
    "def neural_network_2(params, x1, x2):\n",
    "    W2, h = params\n",
    "    x = jnp.concatenate((x1, x2), axis=0)\n",
    "    prev_vec = polynomial_function(jnp.dot(x, W1_perfect)) # Multiplies values, prev_vec is a (1,8) matrix\n",
    "    vec = jnp.dot(prev_vec, W2) # vec is a (1,28) dimensional vector\n",
    "    #z3 = lower_even(relu(jnp.dot(vec, R3))) # z3 is a scalar with the second carry over\n",
    "    #z4 = lower_even(relu(jnp.dot(vec, R4) + jnp.dot(z3, v3))) # z4 is a scalar with the third carry over\n",
    "    #z5 = lower_even(relu(jnp.dot(vec, R5) + jnp.dot(z4, v4))) # z5 is a scalar with the fourth carry over\n",
    "    #z6 = lower_even(relu(jnp.dot(vec, R6) + jnp.dot(z5, v5))) # z6 is a scalar with the fifth carry over\n",
    "    #z7 = lower_even(relu(jnp.dot(vec, R7) + jnp.dot(z6, v6))) # z7 is a scalar with the seventh carry over\n",
    "    #z = jnp.array([z7, z6, z5, z4, z3, 0, 0])\n",
    "    #y = differentiable_even_or_odd(relu(jnp.dot(vec, T) + jnp.dot(z, v7)))\n",
    "    return vec\n",
    "\n",
    "def neural_network_3(params, x1, x2):\n",
    "    R3, R4, R5, R6, R7, v3, v4, v5, v6 = params\n",
    "    x = jnp.concatenate((x1, x2), axis=0)\n",
    "    prev_vec = polynomial_function(jnp.dot(x, W1_perfect)) # Multiplies values, prev_vec is a (1,8) matrix\n",
    "    vec = jnp.dot(prev_vec, W2_perfect) # vec is a (1,28) dimensional vector\n",
    "    z3 = lower_even(jnp.dot(vec, R3)) # z3 is a scalar with the second carry over\n",
    "    z4 = lower_even(jnp.dot(vec, R4) + jnp.dot(z3, v3)) # z4 is a scalar with the third carry over\n",
    "    z5 = lower_even(jnp.dot(vec, R5) + jnp.dot(z4, v4)) # z5 is a scalar with the fourth carry over\n",
    "    z6 = lower_even(jnp.dot(vec, R6) + jnp.dot(z5, v5)) # z6 is a scalar with the fifth carry over\n",
    "    z7 = lower_even(jnp.dot(vec, R7) + jnp.dot(z6, v6)) # z7 is a scalar with the seventh carry over\n",
    "    #y = differentiable_even_or_odd(relu(jnp.dot(vec, T) + jnp.dot(z, v7)))\n",
    "    return jnp.array([z7, z6, z5, z4, z3, 0, 0])\n",
    "\n",
    "def neural_network_4(params, x1, x2):\n",
    "    T, v7 = params\n",
    "    x = jnp.concatenate((x1, x2), axis=0)\n",
    "    prev_vec = polynomial_function(jnp.dot(x, W1_perfect)) # Multiplies values, prev_vec is a (1,8) matrix\n",
    "    vec = jnp.dot(prev_vec, W2_perfect) # vec is a (1,28) dimensional vector\n",
    "    z3 = lower_even(relu(jnp.dot(vec, R3_perfect))) # z3 is a scalar with the second carry over\n",
    "    z4 = lower_even(relu(jnp.dot(vec, R4_perfect) + jnp.dot(z3, v3_perfect))) # z4 is a scalar with the third carry over\n",
    "    z5 = lower_even(relu(jnp.dot(vec, R5_perfect) + jnp.dot(z4, v4_perfect))) # z5 is a scalar with the fourth carry over\n",
    "    z6 = lower_even(relu(jnp.dot(vec, R6_perfect) + jnp.dot(z5, v5_perfect))) # z6 is a scalar with the fifth carry over\n",
    "    z7 = lower_even(relu(jnp.dot(vec, R7_perfect) + jnp.dot(z6, v6_perfect))) # z7 is a scalar with the seventh carry over\n",
    "    z = jnp.array([z7, z6, z5, z4, z3, 0, 0])\n",
    "    y = differentiable_even_or_odd(relu(jnp.dot(vec, T) + jnp.dot(z, v7)))\n",
    "    return y\n",
    "\n",
    "def neural_network_5(params, x1, x2):\n",
    "    W1, W2, R3, R4, R5, R6, R7, v3, v4, v5, v6, T, v7 = params\n",
    "    x = jnp.concatenate((x1, x2), axis=0)\n",
    "    prev_vec = polynomial_function(jnp.dot(x, W1)) # Multiplies values, prev_vec is a (1,8) matrix\n",
    "    vec = jnp.dot(prev_vec, W2) # vec is a (1,28) dimensional vector\n",
    "    z3 = lower_even(jnp.dot(vec, R3)) # z3 is a scalar with the second carry over\n",
    "    z4 = lower_even(jnp.dot(vec, R4) + jnp.dot(z3, v3)) # z4 is a scalar with the third carry over\n",
    "    z5 = lower_even(jnp.dot(vec, R5) + jnp.dot(z4, v4)) # z5 is a scalar with the fourth carry over\n",
    "    z6 = lower_even(jnp.dot(vec, R6) + jnp.dot(z5, v5)) # z6 is a scalar with the fifth carry over\n",
    "    z7 = lower_even(jnp.dot(vec, R7) + jnp.dot(z6, v6)) # z7 is a scalar with the seventh carry over\n",
    "    z = jnp.array([z7, z6, z5, z4, z3, 0, 0])\n",
    "    y = differentiable_even_or_odd(jnp.dot(vec, T) + jnp.dot(z, v7))\n",
    "    return y\n",
    "\n",
    "# Loss functions in every stage\n",
    "def loss_1(params, x1, x2, y):\n",
    "    pred = neural_network_1(params, x1, x2)\n",
    "    return jnp.mean((pred - y)**2)\n",
    "\n",
    "def loss_2(params, x1, x2, y):\n",
    "    pred = neural_network_2(params, x1, x2)\n",
    "    return jnp.mean((pred - y)**2)\n",
    "\n",
    "def loss_3(params, x1, x2, y):\n",
    "    pred = neural_network_3(params, x1, x2)\n",
    "    return jnp.mean((pred - y)**2)\n",
    "\n",
    "def loss_4(params, x1, x2, y):\n",
    "    pred = neural_network_4(params, x1, x2)\n",
    "    return jnp.mean((pred - y)**2)\n",
    "\n",
    "def loss_5(params, x1, x2, y):\n",
    "    pred = neural_network_5(params, x1, x2)\n",
    "    return jnp.mean((pred - y)**2)\n",
    "\n",
    "\n",
    "# Loss functions in every step\n",
    "@jax.jit\n",
    "def update_params_1(params, x1, x2, y, lr):\n",
    "    gradients = grad(loss_1)(params, x1, x2, y)\n",
    "    step_loss = loss_1(params, x1, x2, y)\n",
    "    return [(p - lr * g) for p, g in zip(params, gradients)], step_loss\n",
    "\n",
    "@jax.jit\n",
    "def update_params_2(params, x1, x2, y, lr):\n",
    "    gradients = grad(loss_2)(params, x1, x2, y)\n",
    "    step_loss = loss_2(params, x1, x2, y)\n",
    "    return [(p - lr * g) for p, g in zip(params, gradients)], step_loss\n",
    "\n",
    "@jax.jit\n",
    "def update_params_3(params, x1, x2, y, lr):\n",
    "    gradients = grad(loss_3)(params, x1, x2, y)\n",
    "    step_loss = loss_3(params, x1, x2, y)\n",
    "    return [(p - lr * g) for p, g in zip(params, gradients)], step_loss\n",
    "\n",
    "@jax.jit\n",
    "def update_params_4(params, x1, x2, y, lr):\n",
    "    gradients = grad(loss_4)(params, x1, x2, y)\n",
    "    step_loss = loss_4(params, x1, x2, y)\n",
    "    return [(p - lr * g) for p, g in zip(params, gradients)], step_loss\n",
    "\n",
    "@jax.jit\n",
    "def update_params_5(params, x1, x2, y, lr):\n",
    "    gradients = grad(loss_5)(params, x1, x2, y)\n",
    "    step_loss = loss_5(params, x1, x2, y)\n",
    "    return [(p - lr * g) for p, g in zip(params, gradients)], step_loss\n",
    "\n",
    "\n",
    "def decide_training(params, x1, x2, y, lr, stage):\n",
    "    if stage == 1:\n",
    "        params, step_loss = update_params_1(params, x1, x2, y, lr)\n",
    "        return params, step_loss\n",
    "\n",
    "    elif stage == 2:\n",
    "        params, step_loss = update_params_2(params, x1, x2, y, lr)\n",
    "        return params, step_loss\n",
    "\n",
    "    elif stage == 3:\n",
    "        params, step_loss = update_params_3(params, x1, x2, y, lr)\n",
    "        return params, step_loss\n",
    "\n",
    "    elif stage == 4:\n",
    "        params, step_loss = update_params_4(params, x1, x2, y, lr)\n",
    "        return params, step_loss\n",
    "\n",
    "    elif stage == 5:\n",
    "        params, step_loss = update_params_5(params, x1, x2, y, lr)\n",
    "        return params, step_loss\n",
    "\n",
    "    else:\n",
    "        print('Bad index for the training stage.')\n",
    "        return None\n",
    "        \n",
    "# Main function to train the network\n",
    "def train_stages_neural_network(params, stage, level, lr=0.01, epochs=100):\n",
    "    decimal_dataset = prepare_dataset(level, epochs)\n",
    "    inputs_1, inputs_2, outputs_prev = transform_to_tridimensional_matrix(decimal_dataset)\n",
    "    outputs = prepare_outputs(stage, inputs_1, inputs_2, outputs_prev)\n",
    "    final_loss = 0\n",
    "    # Train the network\n",
    "    for epoch in range(epochs):\n",
    "        # Update parameters at each step\n",
    "        params, step_loss = decide_training(params, inputs_1[epoch], inputs_2[epoch], outputs[epoch], lr, stage)\n",
    "        final_loss += step_loss\n",
    "\n",
    "    final_loss = final_loss / epochs\n",
    "    #print(f\"Loss: {final_loss:.6f}\")\n",
    "    return params, final_loss\n",
    "\n",
    "\n",
    "# Main function to test the network\n",
    "def test_stages_neural_network(params, stage, visualize_errors=0, real_test=0):\n",
    "    if real_test == 1:\n",
    "        decimal_dataset = generate_test_dataset(n_max=12)\n",
    "    else:\n",
    "        decimal_dataset = generate_test_dataset()\n",
    "    inputs_1, inputs_2, outputs_prev = transform_to_tridimensional_matrix(decimal_dataset)\n",
    "    outputs = prepare_outputs(stage, inputs_1, inputs_2, outputs_prev)\n",
    "    correct_predictions_count = 0\n",
    "    test_size = inputs_1.shape[0]\n",
    "\n",
    "    for i in range(test_size):\n",
    "        prediction = predict(params, inputs_1[i], inputs_2[i], stage)\n",
    "        #print(f'Se ha predicho {prediction} y era {outputs[i]}')\n",
    "        if jnp.all(prediction == outputs[i]):  # Check if the prediction matches the expected output\n",
    "            correct_predictions_count += 1  # Increment correct prediction count\n",
    "        elif visualize_errors == 1:\n",
    "            print(f'Ha fallado {decimal_dataset.iloc[i,0]} por {decimal_dataset.iloc[i,1]}.')\n",
    "    return test_size, correct_predictions_count\n",
    "\n",
    "# Predict using the trained neural network\n",
    "def predict(params, x1, x2, stage):\n",
    "    if stage == 1:\n",
    "        binary_pred = neural_network_1(params, x1, x2)\n",
    "        rounded_pred = np.round(binary_pred)\n",
    "        return rounded_pred\n",
    "    elif stage == 2:\n",
    "        binary_pred = neural_network_2(params, x1, x2)\n",
    "        rounded_pred = np.round(binary_pred)\n",
    "        return rounded_pred\n",
    "    elif stage == 3:\n",
    "        binary_pred = neural_network_3(params, x1, x2)\n",
    "        rounded_pred = np.round(binary_pred)\n",
    "        return rounded_pred\n",
    "    elif stage == 4:\n",
    "        binary_pred = neural_network_4(params, x1, x2)\n",
    "        rounded_pred = np.round(binary_pred)\n",
    "        return rounded_pred\n",
    "    elif stage == 5:\n",
    "        binary_pred = neural_network_5(params, x1, x2)\n",
    "        rounded_pred = np.round(binary_pred)\n",
    "        return rounded_pred\n",
    "    else:\n",
    "        print('Bad index for the training stage.')\n",
    "        return None\n",
    "\n",
    "\n",
    "# Check if two models are equal\n",
    "def are_models_equal(model_1, model_2):\n",
    "    # Check that both lists have the same length\n",
    "    if len(model_1) != len(model_2):\n",
    "        return False\n",
    "\n",
    "    # Compare each element in both lists\n",
    "    for elem1, elem2 in zip(model_1, model_2):\n",
    "        if isinstance(elem1, jnp.ndarray) and isinstance(elem2, jnp.ndarray):\n",
    "            # Compare two JAX arrays\n",
    "            if not jnp.all(jnp.isclose(elem1, elem2, atol=1e-2)):\n",
    "                return False\n",
    "        else:\n",
    "            return False\n",
    "\n",
    "    return True"
   ]
  },
  {
   "cell_type": "code",
   "execution_count": 3,
   "id": "a79e9a11-6884-4c9b-94a0-e5c5243612d0",
   "metadata": {},
   "outputs": [],
   "source": [
    "def generate_model(mean=0.5, std=1):\n",
    "    W1 = initialize_random_weights(mean, std, (8, 16))  # 128 neurons in the hidden layer that include element-wise multiplication\n",
    "    W2 = initialize_random_weights(mean, std, (16, 28))  # 448 neurons in the hidden layer that sort the bits\n",
    "    R3 = initialize_random_weights(mean, std, (28))  # 28 neurons that correctly calculate the carry for the second bit\n",
    "    R4 = initialize_random_weights(mean, std, (28))  # 28 neurons that correctly calculate the carry for the third bit\n",
    "    R5 = initialize_random_weights(mean, std, (28))  # 28 neurons that correctly calculate the carry for the fourth bit\n",
    "    R6 = initialize_random_weights(mean, std, (28))  # 28 neurons that correctly calculate the carry for the fifth bit\n",
    "    R7 = initialize_random_weights(mean, std, (28))  # 28 neurons that correctly calculate the carry for the sixth bit\n",
    "    v3 = initialize_random_weights(mean, std)  # 1 neuron that calculates the contribution of the carry for the second bit\n",
    "    v4 = initialize_random_weights(mean, std)  # 1 neuron that calculates the contribution of the carry for the third bit\n",
    "    v5 = initialize_random_weights(mean, std)  # 1 neuron that calculates the contribution of the carry for the fourth bit\n",
    "    v6 = initialize_random_weights(mean, std)  # 1 neuron that calculates the contribution of the carry for the fifth bit\n",
    "    T = initialize_random_weights(mean, std, (28, 7))  # 196 neurons that allow performing the sum\n",
    "    v7 = initialize_random_weights(mean, std)  # 1 neuron that calculates the contribution of the carry vector for all bits\n",
    "    original_model = [W1, W2, R3, R4, R5, R6, R7, v3, v4, v5, v6, T, v7]\n",
    "    trainable_model = [W1, W2, R3, R4, R5, R6, R7, v3, v4, v5, v6, T, v7]\n",
    "    return trainable_model, original_model"
   ]
  },
  {
   "cell_type": "code",
   "execution_count": 4,
   "id": "cfb1a38e-9ed3-4e9d-8e2a-d7981631eb53",
   "metadata": {},
   "outputs": [],
   "source": [
    "class Tee(object):\n",
    "    def __init__(self, file, mode='w'):\n",
    "        self.file = open(file, mode)\n",
    "        self.console = sys.stdout  \n",
    "\n",
    "    def write(self, data):\n",
    "        self.console.write(data)   \n",
    "        self.file.write(data)    \n",
    "\n",
    "    def flush(self):\n",
    "        self.console.flush()\n",
    "        self.file.flush()\n",
    "\n",
    "    def close(self):\n",
    "        self.file.close()\n",
    "\n",
    "def load_trainable_model(model, stage, fecha):\n",
    "    # Ruta dinámica basada en el stage y la fecha\n",
    "    model_path = f'Structured_Network/Easy_examples/Generated_model/Stage_{stage}/{model}_{stage}-{fecha}.pkl'\n",
    "    # Cargar el archivo .pkl y asignarlo dinámicamente a trainable_model_stage_{stage}\n",
    "    with open(model_path, 'rb') as f:\n",
    "        globals()[f'trainable_model_stage_{stage}'] = pickle.load(f)\n",
    "    \n",
    "    # Confirmar la carga\n",
    "    print(f'Model trainable_model_stage_{stage} loaded successfully.')\n",
    "    return globals()[f'trainable_model_stage_{stage}']"
   ]
  },
  {
   "cell_type": "code",
   "execution_count": 5,
   "id": "4dfff31f-aba3-4d41-934b-b26627660ae4",
   "metadata": {},
   "outputs": [
    {
     "name": "stdout",
     "output_type": "stream",
     "text": [
      "Original parameters on 2024_11_01_19_47_39 loaded successfully.\n"
     ]
    }
   ],
   "source": [
    "time = '2024_11_01_19_47_39'\n",
    "model = 'trainable_model_stage'\n",
    "file_path = f\"Parameters/{model}_{time}.pkl\"\n",
    "\n",
    "with open(file_path, 'rb') as file:\n",
    "    trainable_model = pickle.load(file)\n",
    "\n",
    "print(f'Original parameters on {time} loaded successfully.')"
   ]
  },
  {
   "cell_type": "code",
   "execution_count": 6,
   "id": "6d1f3e06-6a16-4cad-8114-a91bfed60ec4",
   "metadata": {},
   "outputs": [],
   "source": [
    "trainable_model, original_model = generate_model()\n",
    "h = 0.001 # Additional parameter needed for the two first stages\n",
    "\n",
    "trainable_model_stage_1 = [trainable_model[0], h]\n",
    "trainable_model_stage_2 = [trainable_model[1], h]\n",
    "trainable_model_stage_3 = [trainable_model[2], trainable_model[3], trainable_model[4], trainable_model[5], trainable_model[6], trainable_model[7], trainable_model[8], trainable_model[9], trainable_model[10]]\n",
    "trainable_model_stage_4 = [trainable_model[11], trainable_model[12]]\n",
    "training_stages = 5\n",
    "trainings_needed = np.zeros(training_stages)"
   ]
  },
  {
   "cell_type": "code",
   "execution_count": 30,
   "id": "d6886607-31fb-4268-b604-d94f86e351b3",
   "metadata": {},
   "outputs": [],
   "source": [
    "trainable_model_stage_5 = [trainable_model_stage_1[0],\n",
    "                           trainable_model_stage_2[0],\n",
    "                           trainable_model_stage_3[0],\n",
    "                           trainable_model_stage_3[1],\n",
    "                           trainable_model_stage_3[2],\n",
    "                           trainable_model_stage_3[3],\n",
    "                           trainable_model_stage_3[4],\n",
    "                           trainable_model_stage_3[5],\n",
    "                           trainable_model_stage_3[6],\n",
    "                           trainable_model_stage_3[7],\n",
    "                           trainable_model_stage_3[8],\n",
    "                           trainable_model_stage_4[0],\n",
    "                           trainable_model_stage_4[1]\n",
    "                           ]"
   ]
  },
  {
   "cell_type": "code",
   "execution_count": 8,
   "id": "ad765357-ff61-46b6-be04-aab760458e91",
   "metadata": {},
   "outputs": [
    {
     "name": "stdout",
     "output_type": "stream",
     "text": [
      "STAGE 4: Out of 100, 22 were predicted correctly in the current model.\n",
      "STAGE 4: Loss is 0.15897881984710693.\n",
      "STAGE 4: Out of 100, 25 were predicted correctly in the current model.\n",
      "STAGE 4: Loss is 0.10840936750173569.\n",
      "STAGE 4: Out of 100, 28 were predicted correctly in the current model.\n",
      "STAGE 4: Loss is 0.09293081611394882.\n",
      "STAGE 4: Out of 100, 29 were predicted correctly in the current model.\n",
      "STAGE 4: Loss is 0.08169540762901306.\n",
      "STAGE 4: Out of 100, 28 were predicted correctly in the current model.\n",
      "STAGE 4: Loss is 0.08651035279035568.\n"
     ]
    },
    {
     "name": "stdin",
     "output_type": "stream",
     "text": [
      "Change level of examples? (Current one is 5, press enter if not):  \n"
     ]
    },
    {
     "name": "stdout",
     "output_type": "stream",
     "text": [
      "STAGE 4: Out of 100, 27 were predicted correctly in the current model.\n",
      "STAGE 4: Loss is 0.08142013847827911.\n",
      "STAGE 4: Out of 100, 28 were predicted correctly in the current model.\n",
      "STAGE 4: Loss is 0.07334259152412415.\n",
      "STAGE 4: Out of 100, 28 were predicted correctly in the current model.\n",
      "STAGE 4: Loss is 0.07720839977264404.\n",
      "STAGE 4: Out of 100, 28 were predicted correctly in the current model.\n",
      "STAGE 4: Loss is 0.06953677535057068.\n",
      "STAGE 4: Out of 100, 28 were predicted correctly in the current model.\n",
      "STAGE 4: Loss is 0.06711424142122269.\n"
     ]
    },
    {
     "name": "stdin",
     "output_type": "stream",
     "text": [
      "Change level of examples? (Current one is 5, press enter if not):  -1\n"
     ]
    },
    {
     "name": "stdout",
     "output_type": "stream",
     "text": [
      "STAGE 4: Out of 100, 28 were predicted correctly in the current model.\n",
      "STAGE 4: Loss is 0.2193523645401001.\n",
      "STAGE 4: Out of 100, 29 were predicted correctly in the current model.\n",
      "STAGE 4: Loss is 0.20290394127368927.\n",
      "STAGE 4: Out of 100, 28 were predicted correctly in the current model.\n",
      "STAGE 4: Loss is 0.1822948306798935.\n",
      "STAGE 4: Out of 100, 29 were predicted correctly in the current model.\n",
      "STAGE 4: Loss is 0.17230115830898285.\n",
      "STAGE 4: Out of 100, 33 were predicted correctly in the current model.\n",
      "STAGE 4: Loss is 0.1573200821876526.\n"
     ]
    },
    {
     "name": "stdin",
     "output_type": "stream",
     "text": [
      "Change level of examples? (Current one is -1, press enter if not):  \n"
     ]
    },
    {
     "name": "stdout",
     "output_type": "stream",
     "text": [
      "STAGE 4: Out of 100, 36 were predicted correctly in the current model.\n",
      "STAGE 4: Loss is 0.15271154046058655.\n",
      "STAGE 4: Out of 100, 38 were predicted correctly in the current model.\n",
      "STAGE 4: Loss is 0.14890624582767487.\n",
      "STAGE 4: Out of 100, 39 were predicted correctly in the current model.\n",
      "STAGE 4: Loss is 0.15107165277004242.\n",
      "STAGE 4: Out of 100, 40 were predicted correctly in the current model.\n",
      "STAGE 4: Loss is 0.14352095127105713.\n",
      "STAGE 4: Out of 100, 41 were predicted correctly in the current model.\n",
      "STAGE 4: Loss is 0.13819874823093414.\n"
     ]
    },
    {
     "name": "stdin",
     "output_type": "stream",
     "text": [
      "Change level of examples? (Current one is -1, press enter if not):  \n"
     ]
    },
    {
     "name": "stdout",
     "output_type": "stream",
     "text": [
      "STAGE 4: Out of 100, 41 were predicted correctly in the current model.\n",
      "STAGE 4: Loss is 0.13602887094020844.\n",
      "STAGE 4: Out of 100, 42 were predicted correctly in the current model.\n",
      "STAGE 4: Loss is 0.12939558923244476.\n",
      "STAGE 4: Out of 100, 43 were predicted correctly in the current model.\n",
      "STAGE 4: Loss is 0.13084475696086884.\n",
      "STAGE 4: Out of 100, 43 were predicted correctly in the current model.\n",
      "STAGE 4: Loss is 0.13075897097587585.\n",
      "STAGE 4: Out of 100, 41 were predicted correctly in the current model.\n",
      "STAGE 4: Loss is 0.1280350536108017.\n"
     ]
    },
    {
     "name": "stdin",
     "output_type": "stream",
     "text": [
      "Change level of examples? (Current one is -1, press enter if not):  \n",
      "Change of leraning rate? (Current one is 0.001, press enter if not):  \n"
     ]
    },
    {
     "name": "stdout",
     "output_type": "stream",
     "text": [
      "STAGE 4: Out of 100, 42 were predicted correctly in the current model.\n",
      "STAGE 4: Loss is 0.12566633522510529.\n",
      "STAGE 4: Out of 100, 40 were predicted correctly in the current model.\n",
      "STAGE 4: Loss is 0.11294171959161758.\n",
      "STAGE 4: Out of 100, 44 were predicted correctly in the current model.\n",
      "STAGE 4: Loss is 0.12150435149669647.\n",
      "STAGE 4: Out of 100, 42 were predicted correctly in the current model.\n",
      "STAGE 4: Loss is 0.11637889593839645.\n",
      "STAGE 4: Out of 100, 44 were predicted correctly in the current model.\n",
      "STAGE 4: Loss is 0.11556778103113174.\n"
     ]
    },
    {
     "name": "stdin",
     "output_type": "stream",
     "text": [
      "Change level of examples? (Current one is -1, press enter if not):  \n"
     ]
    },
    {
     "name": "stdout",
     "output_type": "stream",
     "text": [
      "STAGE 4: Out of 100, 45 were predicted correctly in the current model.\n",
      "STAGE 4: Loss is 0.11169276386499405.\n",
      "STAGE 4: Out of 100, 45 were predicted correctly in the current model.\n",
      "STAGE 4: Loss is 0.11708280444145203.\n",
      "STAGE 4: Out of 100, 44 were predicted correctly in the current model.\n",
      "STAGE 4: Loss is 0.10668188333511353.\n",
      "STAGE 4: Out of 100, 45 were predicted correctly in the current model.\n",
      "STAGE 4: Loss is 0.10846871137619019.\n",
      "STAGE 4: Out of 100, 46 were predicted correctly in the current model.\n",
      "STAGE 4: Loss is 0.11239460110664368.\n"
     ]
    },
    {
     "name": "stdin",
     "output_type": "stream",
     "text": [
      "Change level of examples? (Current one is -1, press enter if not):  \n"
     ]
    },
    {
     "name": "stdout",
     "output_type": "stream",
     "text": [
      "STAGE 4: Out of 100, 46 were predicted correctly in the current model.\n",
      "STAGE 4: Loss is 0.1017768383026123.\n",
      "STAGE 4: Out of 100, 47 were predicted correctly in the current model.\n",
      "STAGE 4: Loss is 0.10117565095424652.\n",
      "STAGE 4: Out of 100, 47 were predicted correctly in the current model.\n",
      "STAGE 4: Loss is 0.10131710767745972.\n",
      "STAGE 4: Out of 100, 48 were predicted correctly in the current model.\n",
      "STAGE 4: Loss is 0.09488175064325333.\n",
      "STAGE 4: Out of 100, 48 were predicted correctly in the current model.\n",
      "STAGE 4: Loss is 0.09384004771709442.\n"
     ]
    },
    {
     "name": "stdin",
     "output_type": "stream",
     "text": [
      "Change level of examples? (Current one is -1, press enter if not):  \n",
      "Skip to next stage? (yes/no):  no\n"
     ]
    },
    {
     "name": "stdout",
     "output_type": "stream",
     "text": [
      "STAGE 4: Out of 100, 49 were predicted correctly in the current model.\n",
      "STAGE 4: Loss is 0.09741955250501633.\n",
      "STAGE 4: Out of 100, 47 were predicted correctly in the current model.\n",
      "STAGE 4: Loss is 0.09126246720552444.\n",
      "STAGE 4: Out of 100, 49 were predicted correctly in the current model.\n",
      "STAGE 4: Loss is 0.0908978059887886.\n",
      "STAGE 4: Out of 100, 48 were predicted correctly in the current model.\n",
      "STAGE 4: Loss is 0.08978039026260376.\n",
      "STAGE 4: Out of 100, 51 were predicted correctly in the current model.\n",
      "STAGE 4: Loss is 0.09290027618408203.\n"
     ]
    },
    {
     "name": "stdin",
     "output_type": "stream",
     "text": [
      "Change level of examples? (Current one is -1, press enter if not):  \n"
     ]
    },
    {
     "name": "stdout",
     "output_type": "stream",
     "text": [
      "STAGE 4: Out of 100, 50 were predicted correctly in the current model.\n",
      "STAGE 4: Loss is 0.08918933570384979.\n",
      "STAGE 4: Out of 100, 51 were predicted correctly in the current model.\n",
      "STAGE 4: Loss is 0.0902087613940239.\n",
      "STAGE 4: Out of 100, 50 were predicted correctly in the current model.\n",
      "STAGE 4: Loss is 0.08482971787452698.\n",
      "STAGE 4: Out of 100, 52 were predicted correctly in the current model.\n",
      "STAGE 4: Loss is 0.09099642187356949.\n",
      "STAGE 4: Out of 100, 51 were predicted correctly in the current model.\n",
      "STAGE 4: Loss is 0.08740014582872391.\n"
     ]
    },
    {
     "name": "stdin",
     "output_type": "stream",
     "text": [
      "Change level of examples? (Current one is -1, press enter if not):  \n",
      "Change of leraning rate? (Current one is 0.001, press enter if not):  \n"
     ]
    },
    {
     "name": "stdout",
     "output_type": "stream",
     "text": [
      "STAGE 4: Out of 100, 52 were predicted correctly in the current model.\n",
      "STAGE 4: Loss is 0.08947419375181198.\n",
      "STAGE 4: Out of 100, 53 were predicted correctly in the current model.\n",
      "STAGE 4: Loss is 0.08764693140983582.\n",
      "STAGE 4: Out of 100, 52 were predicted correctly in the current model.\n",
      "STAGE 4: Loss is 0.08420059829950333.\n",
      "STAGE 4: Out of 100, 52 were predicted correctly in the current model.\n",
      "STAGE 4: Loss is 0.08390574157238007.\n",
      "STAGE 4: Out of 100, 52 were predicted correctly in the current model.\n",
      "STAGE 4: Loss is 0.09200922399759293.\n"
     ]
    },
    {
     "name": "stdin",
     "output_type": "stream",
     "text": [
      "Change level of examples? (Current one is -1, press enter if not):  \n"
     ]
    },
    {
     "name": "stdout",
     "output_type": "stream",
     "text": [
      "STAGE 4: Out of 100, 52 were predicted correctly in the current model.\n",
      "STAGE 4: Loss is 0.08227807283401489.\n",
      "STAGE 4: Out of 100, 55 were predicted correctly in the current model.\n",
      "STAGE 4: Loss is 0.08237793296575546.\n",
      "STAGE 4: Out of 100, 55 were predicted correctly in the current model.\n",
      "STAGE 4: Loss is 0.08883094042539597.\n",
      "STAGE 4: Out of 100, 54 were predicted correctly in the current model.\n",
      "STAGE 4: Loss is 0.08093318343162537.\n",
      "STAGE 4: Out of 100, 54 were predicted correctly in the current model.\n",
      "STAGE 4: Loss is 0.0781979188323021.\n"
     ]
    },
    {
     "name": "stdin",
     "output_type": "stream",
     "text": [
      "Change level of examples? (Current one is -1, press enter if not):  \n"
     ]
    },
    {
     "name": "stdout",
     "output_type": "stream",
     "text": [
      "STAGE 4: Out of 100, 54 were predicted correctly in the current model.\n",
      "STAGE 4: Loss is 0.08556220680475235.\n",
      "STAGE 4: Out of 100, 55 were predicted correctly in the current model.\n",
      "STAGE 4: Loss is 0.0836833044886589.\n",
      "STAGE 4: Out of 100, 54 were predicted correctly in the current model.\n",
      "STAGE 4: Loss is 0.08437769114971161.\n",
      "STAGE 4: Out of 100, 53 were predicted correctly in the current model.\n",
      "STAGE 4: Loss is 0.07986777275800705.\n",
      "STAGE 4: Out of 100, 55 were predicted correctly in the current model.\n",
      "STAGE 4: Loss is 0.0850987359881401.\n"
     ]
    },
    {
     "name": "stdin",
     "output_type": "stream",
     "text": [
      "Change level of examples? (Current one is -1, press enter if not):  \n"
     ]
    },
    {
     "name": "stdout",
     "output_type": "stream",
     "text": [
      "STAGE 4: Out of 100, 54 were predicted correctly in the current model.\n",
      "STAGE 4: Loss is 0.08811947703361511.\n",
      "STAGE 4: Out of 100, 53 were predicted correctly in the current model.\n",
      "STAGE 4: Loss is 0.08185721933841705.\n",
      "STAGE 4: Out of 100, 54 were predicted correctly in the current model.\n",
      "STAGE 4: Loss is 0.08189770579338074.\n",
      "STAGE 4: Out of 100, 53 were predicted correctly in the current model.\n",
      "STAGE 4: Loss is 0.08278780430555344.\n",
      "STAGE 4: Out of 100, 53 were predicted correctly in the current model.\n",
      "STAGE 4: Loss is 0.08131206780672073.\n"
     ]
    },
    {
     "name": "stdin",
     "output_type": "stream",
     "text": [
      "Change level of examples? (Current one is -1, press enter if not):  \n"
     ]
    },
    {
     "name": "stdout",
     "output_type": "stream",
     "text": [
      "STAGE 4: Out of 100, 52 were predicted correctly in the current model.\n",
      "STAGE 4: Loss is 0.08058440685272217.\n",
      "STAGE 4: Out of 100, 53 were predicted correctly in the current model.\n",
      "STAGE 4: Loss is 0.08366519212722778.\n",
      "STAGE 4: Out of 100, 56 were predicted correctly in the current model.\n",
      "STAGE 4: Loss is 0.0864727720618248.\n",
      "STAGE 4: Out of 100, 54 were predicted correctly in the current model.\n",
      "STAGE 4: Loss is 0.07885238528251648.\n",
      "STAGE 4: Out of 100, 56 were predicted correctly in the current model.\n",
      "STAGE 4: Loss is 0.08350417762994766.\n"
     ]
    },
    {
     "name": "stdin",
     "output_type": "stream",
     "text": [
      "Change level of examples? (Current one is -1, press enter if not):  \n",
      "Change of leraning rate? (Current one is 0.001, press enter if not):  \n"
     ]
    },
    {
     "name": "stdout",
     "output_type": "stream",
     "text": [
      "STAGE 4: Out of 100, 54 were predicted correctly in the current model.\n",
      "STAGE 4: Loss is 0.08010067790746689.\n",
      "STAGE 4: Out of 100, 54 were predicted correctly in the current model.\n",
      "STAGE 4: Loss is 0.08554946631193161.\n",
      "STAGE 4: Out of 100, 54 were predicted correctly in the current model.\n",
      "STAGE 4: Loss is 0.07629788666963577.\n",
      "STAGE 4: Out of 100, 54 were predicted correctly in the current model.\n",
      "STAGE 4: Loss is 0.0840357095003128.\n",
      "STAGE 4: Out of 100, 55 were predicted correctly in the current model.\n",
      "STAGE 4: Loss is 0.07847625762224197.\n"
     ]
    },
    {
     "name": "stdin",
     "output_type": "stream",
     "text": [
      "Change level of examples? (Current one is -1, press enter if not):  \n",
      "Skip to next stage? (yes/no):  no\n"
     ]
    },
    {
     "name": "stdout",
     "output_type": "stream",
     "text": [
      "STAGE 4: Out of 100, 55 were predicted correctly in the current model.\n",
      "STAGE 4: Loss is 0.08752965182065964.\n",
      "STAGE 4: Out of 100, 54 were predicted correctly in the current model.\n",
      "STAGE 4: Loss is 0.08430540561676025.\n",
      "STAGE 4: Out of 100, 54 were predicted correctly in the current model.\n",
      "STAGE 4: Loss is 0.08107781410217285.\n",
      "STAGE 4: Out of 100, 54 were predicted correctly in the current model.\n",
      "STAGE 4: Loss is 0.07778239250183105.\n",
      "STAGE 4: Out of 100, 54 were predicted correctly in the current model.\n",
      "STAGE 4: Loss is 0.07851628214120865.\n"
     ]
    },
    {
     "name": "stdin",
     "output_type": "stream",
     "text": [
      "Change level of examples? (Current one is -1, press enter if not):  \n"
     ]
    },
    {
     "name": "stdout",
     "output_type": "stream",
     "text": [
      "STAGE 4: Out of 100, 55 were predicted correctly in the current model.\n",
      "STAGE 4: Loss is 0.07265342026948929.\n",
      "STAGE 4: Out of 100, 55 were predicted correctly in the current model.\n",
      "STAGE 4: Loss is 0.07570960372686386.\n",
      "STAGE 4: Out of 100, 57 were predicted correctly in the current model.\n",
      "STAGE 4: Loss is 0.08059021830558777.\n",
      "STAGE 4: Out of 100, 59 were predicted correctly in the current model.\n",
      "STAGE 4: Loss is 0.08388064056634903.\n",
      "STAGE 4: Out of 100, 60 were predicted correctly in the current model.\n",
      "STAGE 4: Loss is 0.08059005439281464.\n"
     ]
    },
    {
     "name": "stdin",
     "output_type": "stream",
     "text": [
      "Change level of examples? (Current one is -1, press enter if not):  \n"
     ]
    },
    {
     "name": "stdout",
     "output_type": "stream",
     "text": [
      "STAGE 4: Out of 100, 60 were predicted correctly in the current model.\n",
      "STAGE 4: Loss is 0.08062997460365295.\n",
      "STAGE 4: Out of 100, 62 were predicted correctly in the current model.\n",
      "STAGE 4: Loss is 0.07513365894556046.\n",
      "STAGE 4: Out of 100, 64 were predicted correctly in the current model.\n",
      "STAGE 4: Loss is 0.07304185628890991.\n",
      "STAGE 4: Out of 100, 63 were predicted correctly in the current model.\n",
      "STAGE 4: Loss is 0.07051311433315277.\n",
      "STAGE 4: Out of 100, 64 were predicted correctly in the current model.\n",
      "STAGE 4: Loss is 0.07118678838014603.\n"
     ]
    },
    {
     "name": "stdin",
     "output_type": "stream",
     "text": [
      "Change level of examples? (Current one is -1, press enter if not):  \n"
     ]
    },
    {
     "name": "stdout",
     "output_type": "stream",
     "text": [
      "STAGE 4: Out of 100, 64 were predicted correctly in the current model.\n",
      "STAGE 4: Loss is 0.07102014869451523.\n",
      "STAGE 4: Out of 100, 67 were predicted correctly in the current model.\n",
      "STAGE 4: Loss is 0.06498631834983826.\n",
      "STAGE 4: Out of 100, 69 were predicted correctly in the current model.\n",
      "STAGE 4: Loss is 0.07264675199985504.\n",
      "STAGE 4: Out of 100, 70 were predicted correctly in the current model.\n",
      "STAGE 4: Loss is 0.060670461505651474.\n",
      "STAGE 4: Out of 100, 70 were predicted correctly in the current model.\n",
      "STAGE 4: Loss is 0.05883562192320824.\n"
     ]
    },
    {
     "name": "stdin",
     "output_type": "stream",
     "text": [
      "Change level of examples? (Current one is -1, press enter if not):  \n",
      "Change of leraning rate? (Current one is 0.001, press enter if not):  \n"
     ]
    },
    {
     "name": "stdout",
     "output_type": "stream",
     "text": [
      "STAGE 4: Out of 100, 71 were predicted correctly in the current model.\n",
      "STAGE 4: Loss is 0.059087708592414856.\n",
      "STAGE 4: Out of 100, 72 were predicted correctly in the current model.\n",
      "STAGE 4: Loss is 0.059876151382923126.\n",
      "STAGE 4: Out of 100, 73 were predicted correctly in the current model.\n",
      "STAGE 4: Loss is 0.05128481984138489.\n",
      "STAGE 4: Out of 100, 72 were predicted correctly in the current model.\n",
      "STAGE 4: Loss is 0.04879014194011688.\n",
      "STAGE 4: Out of 100, 72 were predicted correctly in the current model.\n",
      "STAGE 4: Loss is 0.053889110684394836.\n"
     ]
    },
    {
     "name": "stdin",
     "output_type": "stream",
     "text": [
      "Change level of examples? (Current one is -1, press enter if not):  \n"
     ]
    },
    {
     "name": "stdout",
     "output_type": "stream",
     "text": [
      "STAGE 4: Out of 100, 72 were predicted correctly in the current model.\n",
      "STAGE 4: Loss is 0.05220425873994827.\n",
      "STAGE 4: Out of 100, 71 were predicted correctly in the current model.\n",
      "STAGE 4: Loss is 0.05529892072081566.\n",
      "STAGE 4: Out of 100, 74 were predicted correctly in the current model.\n",
      "STAGE 4: Loss is 0.050144754350185394.\n",
      "STAGE 4: Out of 100, 73 were predicted correctly in the current model.\n",
      "STAGE 4: Loss is 0.053665418177843094.\n",
      "STAGE 4: Out of 100, 73 were predicted correctly in the current model.\n",
      "STAGE 4: Loss is 0.055949389934539795.\n"
     ]
    },
    {
     "name": "stdin",
     "output_type": "stream",
     "text": [
      "Change level of examples? (Current one is -1, press enter if not):  \n"
     ]
    },
    {
     "name": "stdout",
     "output_type": "stream",
     "text": [
      "STAGE 4: Out of 100, 74 were predicted correctly in the current model.\n",
      "STAGE 4: Loss is 0.050893135368824005.\n",
      "STAGE 4: Out of 100, 75 were predicted correctly in the current model.\n",
      "STAGE 4: Loss is 0.051589686423540115.\n",
      "STAGE 4: Out of 100, 74 were predicted correctly in the current model.\n",
      "STAGE 4: Loss is 0.051565226167440414.\n",
      "STAGE 4: Out of 100, 74 were predicted correctly in the current model.\n",
      "STAGE 4: Loss is 0.05023558437824249.\n",
      "STAGE 4: Out of 100, 74 were predicted correctly in the current model.\n",
      "STAGE 4: Loss is 0.04729826748371124.\n"
     ]
    },
    {
     "name": "stdin",
     "output_type": "stream",
     "text": [
      "Change level of examples? (Current one is -1, press enter if not):  \n"
     ]
    },
    {
     "name": "stdout",
     "output_type": "stream",
     "text": [
      "STAGE 4: Out of 100, 76 were predicted correctly in the current model.\n",
      "STAGE 4: Loss is 0.04777346923947334.\n",
      "STAGE 4: Out of 100, 75 were predicted correctly in the current model.\n",
      "STAGE 4: Loss is 0.04236827790737152.\n",
      "STAGE 4: Out of 100, 75 were predicted correctly in the current model.\n",
      "STAGE 4: Loss is 0.04979850351810455.\n",
      "STAGE 4: Out of 100, 75 were predicted correctly in the current model.\n",
      "STAGE 4: Loss is 0.046376075595617294.\n",
      "STAGE 4: Out of 100, 74 were predicted correctly in the current model.\n",
      "STAGE 4: Loss is 0.043988630175590515.\n"
     ]
    },
    {
     "name": "stdin",
     "output_type": "stream",
     "text": [
      "Change level of examples? (Current one is -1, press enter if not):  \n",
      "Skip to next stage? (yes/no):  no\n"
     ]
    },
    {
     "name": "stdout",
     "output_type": "stream",
     "text": [
      "STAGE 4: Out of 100, 76 were predicted correctly in the current model.\n",
      "STAGE 4: Loss is 0.05093400180339813.\n",
      "STAGE 4: Out of 100, 76 were predicted correctly in the current model.\n",
      "STAGE 4: Loss is 0.05150400474667549.\n",
      "STAGE 4: Out of 100, 77 were predicted correctly in the current model.\n",
      "STAGE 4: Loss is 0.0507294200360775.\n",
      "STAGE 4: Out of 100, 76 were predicted correctly in the current model.\n",
      "STAGE 4: Loss is 0.04728497937321663.\n",
      "STAGE 4: Out of 100, 77 were predicted correctly in the current model.\n",
      "STAGE 4: Loss is 0.04865281283855438.\n"
     ]
    },
    {
     "name": "stdin",
     "output_type": "stream",
     "text": [
      "Change level of examples? (Current one is -1, press enter if not):  \n",
      "Change of leraning rate? (Current one is 0.001, press enter if not):  \n"
     ]
    },
    {
     "name": "stdout",
     "output_type": "stream",
     "text": [
      "STAGE 4: Out of 100, 75 were predicted correctly in the current model.\n",
      "STAGE 4: Loss is 0.051156096160411835.\n",
      "STAGE 4: Out of 100, 76 were predicted correctly in the current model.\n",
      "STAGE 4: Loss is 0.05048641562461853.\n",
      "STAGE 4: Out of 100, 74 were predicted correctly in the current model.\n",
      "STAGE 4: Loss is 0.04648987203836441.\n",
      "STAGE 4: Out of 100, 75 were predicted correctly in the current model.\n",
      "STAGE 4: Loss is 0.05507821962237358.\n",
      "STAGE 4: Out of 100, 73 were predicted correctly in the current model.\n",
      "STAGE 4: Loss is 0.050571370869874954.\n"
     ]
    },
    {
     "name": "stdin",
     "output_type": "stream",
     "text": [
      "Change level of examples? (Current one is -1, press enter if not):  \n"
     ]
    },
    {
     "name": "stdout",
     "output_type": "stream",
     "text": [
      "STAGE 4: Out of 100, 74 were predicted correctly in the current model.\n",
      "STAGE 4: Loss is 0.05326102301478386.\n",
      "STAGE 4: Out of 100, 74 were predicted correctly in the current model.\n",
      "STAGE 4: Loss is 0.049328383058309555.\n",
      "STAGE 4: Out of 100, 75 were predicted correctly in the current model.\n",
      "STAGE 4: Loss is 0.046532176434993744.\n",
      "STAGE 4: Out of 100, 75 were predicted correctly in the current model.\n",
      "STAGE 4: Loss is 0.047873880714178085.\n",
      "STAGE 4: Out of 100, 74 were predicted correctly in the current model.\n",
      "STAGE 4: Loss is 0.04527628421783447.\n"
     ]
    },
    {
     "name": "stdin",
     "output_type": "stream",
     "text": [
      "Change level of examples? (Current one is -1, press enter if not):  \n"
     ]
    },
    {
     "name": "stdout",
     "output_type": "stream",
     "text": [
      "STAGE 4: Out of 100, 74 were predicted correctly in the current model.\n",
      "STAGE 4: Loss is 0.0481179915368557.\n",
      "STAGE 4: Out of 100, 74 were predicted correctly in the current model.\n",
      "STAGE 4: Loss is 0.044462867081165314.\n",
      "STAGE 4: Out of 100, 74 were predicted correctly in the current model.\n",
      "STAGE 4: Loss is 0.05221142992377281.\n",
      "STAGE 4: Out of 100, 74 were predicted correctly in the current model.\n",
      "STAGE 4: Loss is 0.04737095907330513.\n",
      "STAGE 4: Out of 100, 76 were predicted correctly in the current model.\n",
      "STAGE 4: Loss is 0.04653078317642212.\n"
     ]
    },
    {
     "name": "stdin",
     "output_type": "stream",
     "text": [
      "Change level of examples? (Current one is -1, press enter if not):  \n"
     ]
    },
    {
     "name": "stdout",
     "output_type": "stream",
     "text": [
      "STAGE 4: Out of 100, 74 were predicted correctly in the current model.\n",
      "STAGE 4: Loss is 0.04223720356822014.\n",
      "STAGE 4: Out of 100, 74 were predicted correctly in the current model.\n",
      "STAGE 4: Loss is 0.046913936734199524.\n",
      "STAGE 4: Out of 100, 76 were predicted correctly in the current model.\n",
      "STAGE 4: Loss is 0.04420289024710655.\n",
      "STAGE 4: Out of 100, 75 were predicted correctly in the current model.\n",
      "STAGE 4: Loss is 0.048598770052194595.\n",
      "STAGE 4: Out of 100, 76 were predicted correctly in the current model.\n",
      "STAGE 4: Loss is 0.04759332165122032.\n"
     ]
    },
    {
     "name": "stdin",
     "output_type": "stream",
     "text": [
      "Change level of examples? (Current one is -1, press enter if not):  \n"
     ]
    },
    {
     "name": "stdout",
     "output_type": "stream",
     "text": [
      "STAGE 4: Out of 100, 76 were predicted correctly in the current model.\n",
      "STAGE 4: Loss is 0.047443095594644547.\n",
      "STAGE 4: Out of 100, 74 were predicted correctly in the current model.\n",
      "STAGE 4: Loss is 0.04602746665477753.\n",
      "STAGE 4: Out of 100, 75 were predicted correctly in the current model.\n",
      "STAGE 4: Loss is 0.0428754948079586.\n",
      "STAGE 4: Out of 100, 76 were predicted correctly in the current model.\n",
      "STAGE 4: Loss is 0.04542222246527672.\n",
      "STAGE 4: Out of 100, 75 were predicted correctly in the current model.\n",
      "STAGE 4: Loss is 0.046137794852256775.\n"
     ]
    },
    {
     "name": "stdin",
     "output_type": "stream",
     "text": [
      "Change level of examples? (Current one is -1, press enter if not):  \n",
      "Change of leraning rate? (Current one is 0.001, press enter if not):  \n"
     ]
    },
    {
     "name": "stdout",
     "output_type": "stream",
     "text": [
      "STAGE 4: Out of 100, 74 were predicted correctly in the current model.\n",
      "STAGE 4: Loss is 0.048221830278635025.\n",
      "STAGE 4: Out of 100, 75 were predicted correctly in the current model.\n",
      "STAGE 4: Loss is 0.04160463064908981.\n",
      "STAGE 4: Out of 100, 75 were predicted correctly in the current model.\n",
      "STAGE 4: Loss is 0.04303315654397011.\n",
      "STAGE 4: Out of 100, 74 were predicted correctly in the current model.\n",
      "STAGE 4: Loss is 0.05148973688483238.\n",
      "STAGE 4: Out of 100, 76 were predicted correctly in the current model.\n",
      "STAGE 4: Loss is 0.046926479786634445.\n"
     ]
    },
    {
     "name": "stdin",
     "output_type": "stream",
     "text": [
      "Change level of examples? (Current one is -1, press enter if not):  \n"
     ]
    },
    {
     "name": "stdout",
     "output_type": "stream",
     "text": [
      "STAGE 4: Out of 100, 76 were predicted correctly in the current model.\n",
      "STAGE 4: Loss is 0.04996924102306366.\n",
      "STAGE 4: Out of 100, 74 were predicted correctly in the current model.\n",
      "STAGE 4: Loss is 0.04864644259214401.\n",
      "STAGE 4: Out of 100, 74 were predicted correctly in the current model.\n",
      "STAGE 4: Loss is 0.04814348742365837.\n",
      "STAGE 4: Out of 100, 75 were predicted correctly in the current model.\n",
      "STAGE 4: Loss is 0.0434105210006237.\n",
      "STAGE 4: Out of 100, 75 were predicted correctly in the current model.\n",
      "STAGE 4: Loss is 0.05165954679250717.\n"
     ]
    },
    {
     "name": "stdin",
     "output_type": "stream",
     "text": [
      "Change level of examples? (Current one is -1, press enter if not):  \n",
      "Skip to next stage? (yes/no):  no\n"
     ]
    },
    {
     "name": "stdout",
     "output_type": "stream",
     "text": [
      "STAGE 4: Out of 100, 74 were predicted correctly in the current model.\n",
      "STAGE 4: Loss is 0.04954879730939865.\n",
      "STAGE 4: Out of 100, 74 were predicted correctly in the current model.\n",
      "STAGE 4: Loss is 0.04593060165643692.\n",
      "STAGE 4: Out of 100, 76 were predicted correctly in the current model.\n",
      "STAGE 4: Loss is 0.04511012136936188.\n",
      "STAGE 4: Out of 100, 75 were predicted correctly in the current model.\n",
      "STAGE 4: Loss is 0.04860801622271538.\n",
      "STAGE 4: Out of 100, 75 were predicted correctly in the current model.\n",
      "STAGE 4: Loss is 0.04863018915057182.\n"
     ]
    },
    {
     "name": "stdin",
     "output_type": "stream",
     "text": [
      "Change level of examples? (Current one is -1, press enter if not):  \n"
     ]
    },
    {
     "name": "stdout",
     "output_type": "stream",
     "text": [
      "STAGE 4: Out of 100, 75 were predicted correctly in the current model.\n",
      "STAGE 4: Loss is 0.045687273144721985.\n",
      "STAGE 4: Out of 100, 74 were predicted correctly in the current model.\n",
      "STAGE 4: Loss is 0.04781913384795189.\n",
      "STAGE 4: Out of 100, 74 were predicted correctly in the current model.\n",
      "STAGE 4: Loss is 0.04623817279934883.\n",
      "STAGE 4: Out of 100, 75 were predicted correctly in the current model.\n",
      "STAGE 4: Loss is 0.048551108688116074.\n",
      "STAGE 4: Out of 100, 74 were predicted correctly in the current model.\n",
      "STAGE 4: Loss is 0.04741727560758591.\n"
     ]
    },
    {
     "name": "stdin",
     "output_type": "stream",
     "text": [
      "Change level of examples? (Current one is -1, press enter if not):  \n"
     ]
    },
    {
     "name": "stdout",
     "output_type": "stream",
     "text": [
      "STAGE 4: Out of 100, 75 were predicted correctly in the current model.\n",
      "STAGE 4: Loss is 0.04836372286081314.\n",
      "STAGE 4: Out of 100, 74 were predicted correctly in the current model.\n",
      "STAGE 4: Loss is 0.04891984164714813.\n",
      "STAGE 4: Out of 100, 74 were predicted correctly in the current model.\n",
      "STAGE 4: Loss is 0.04636634886264801.\n",
      "STAGE 4: Out of 100, 75 were predicted correctly in the current model.\n",
      "STAGE 4: Loss is 0.05118356645107269.\n",
      "STAGE 4: Out of 100, 75 were predicted correctly in the current model.\n",
      "STAGE 4: Loss is 0.05054890364408493.\n"
     ]
    },
    {
     "name": "stdin",
     "output_type": "stream",
     "text": [
      "Change level of examples? (Current one is -1, press enter if not):  \n",
      "Change of leraning rate? (Current one is 0.001, press enter if not):  \n"
     ]
    },
    {
     "name": "stdout",
     "output_type": "stream",
     "text": [
      "STAGE 4: Out of 100, 74 were predicted correctly in the current model.\n",
      "STAGE 4: Loss is 0.04095974192023277.\n",
      "STAGE 4: Out of 100, 74 were predicted correctly in the current model.\n",
      "STAGE 4: Loss is 0.04878057911992073.\n",
      "STAGE 4: Out of 100, 74 were predicted correctly in the current model.\n",
      "STAGE 4: Loss is 0.04737427085638046.\n",
      "STAGE 4: Out of 100, 76 were predicted correctly in the current model.\n",
      "STAGE 4: Loss is 0.048367176204919815.\n",
      "STAGE 4: Out of 100, 75 were predicted correctly in the current model.\n",
      "STAGE 4: Loss is 0.04717667028307915.\n"
     ]
    },
    {
     "name": "stdin",
     "output_type": "stream",
     "text": [
      "Change level of examples? (Current one is -1, press enter if not):  \n"
     ]
    },
    {
     "name": "stdout",
     "output_type": "stream",
     "text": [
      "STAGE 4: Out of 100, 74 were predicted correctly in the current model.\n",
      "STAGE 4: Loss is 0.05090619623661041.\n",
      "STAGE 4: Out of 100, 74 were predicted correctly in the current model.\n",
      "STAGE 4: Loss is 0.04838653653860092.\n",
      "STAGE 4: Out of 100, 74 were predicted correctly in the current model.\n",
      "STAGE 4: Loss is 0.04904558137059212.\n",
      "STAGE 4: Out of 100, 74 were predicted correctly in the current model.\n",
      "STAGE 4: Loss is 0.046012863516807556.\n",
      "STAGE 4: Out of 100, 75 were predicted correctly in the current model.\n",
      "STAGE 4: Loss is 0.04678197577595711.\n"
     ]
    },
    {
     "name": "stdin",
     "output_type": "stream",
     "text": [
      "Change level of examples? (Current one is -1, press enter if not):  \n"
     ]
    },
    {
     "name": "stdout",
     "output_type": "stream",
     "text": [
      "STAGE 4: Out of 100, 74 were predicted correctly in the current model.\n",
      "STAGE 4: Loss is 0.044064052402973175.\n",
      "STAGE 4: Out of 100, 74 were predicted correctly in the current model.\n",
      "STAGE 4: Loss is 0.04898751527070999.\n",
      "STAGE 4: Out of 100, 75 were predicted correctly in the current model.\n",
      "STAGE 4: Loss is 0.04434701055288315.\n",
      "STAGE 4: Out of 100, 75 were predicted correctly in the current model.\n",
      "STAGE 4: Loss is 0.04609502851963043.\n",
      "STAGE 4: Out of 100, 74 were predicted correctly in the current model.\n",
      "STAGE 4: Loss is 0.04284221678972244.\n"
     ]
    },
    {
     "name": "stdin",
     "output_type": "stream",
     "text": [
      "Change level of examples? (Current one is -1, press enter if not):  \n"
     ]
    },
    {
     "name": "stdout",
     "output_type": "stream",
     "text": [
      "STAGE 4: Out of 100, 75 were predicted correctly in the current model.\n",
      "STAGE 4: Loss is 0.04914660006761551.\n",
      "STAGE 4: Out of 100, 74 were predicted correctly in the current model.\n",
      "STAGE 4: Loss is 0.04644179344177246.\n",
      "STAGE 4: Out of 100, 74 were predicted correctly in the current model.\n",
      "STAGE 4: Loss is 0.049595147371292114.\n",
      "STAGE 4: Out of 100, 76 were predicted correctly in the current model.\n",
      "STAGE 4: Loss is 0.04660562053322792.\n",
      "STAGE 4: Out of 100, 74 were predicted correctly in the current model.\n",
      "STAGE 4: Loss is 0.04561064764857292.\n"
     ]
    },
    {
     "name": "stdin",
     "output_type": "stream",
     "text": [
      "Change level of examples? (Current one is -1, press enter if not):  \n"
     ]
    },
    {
     "name": "stdout",
     "output_type": "stream",
     "text": [
      "STAGE 4: Out of 100, 75 were predicted correctly in the current model.\n",
      "STAGE 4: Loss is 0.05182759836316109.\n",
      "STAGE 4: Out of 100, 77 were predicted correctly in the current model.\n",
      "STAGE 4: Loss is 0.043130990117788315.\n",
      "STAGE 4: Out of 100, 76 were predicted correctly in the current model.\n",
      "STAGE 4: Loss is 0.0454704649746418.\n",
      "STAGE 4: Out of 100, 75 were predicted correctly in the current model.\n",
      "STAGE 4: Loss is 0.04337509721517563.\n",
      "STAGE 4: Out of 100, 75 were predicted correctly in the current model.\n",
      "STAGE 4: Loss is 0.04842497408390045.\n"
     ]
    },
    {
     "name": "stdin",
     "output_type": "stream",
     "text": [
      "Change level of examples? (Current one is -1, press enter if not):  \n",
      "Change of leraning rate? (Current one is 0.001, press enter if not):  \n",
      "Skip to next stage? (yes/no):  yes\n"
     ]
    },
    {
     "name": "stdout",
     "output_type": "stream",
     "text": [
      "Stage 4 completed in 2000.0 trainings.\n"
     ]
    },
    {
     "name": "stdin",
     "output_type": "stream",
     "text": [
      "Do you want to save the model trainable_model_stage_4? (yes/no):  yes\n"
     ]
    },
    {
     "name": "stdout",
     "output_type": "stream",
     "text": [
      "Model trainable_model_stage_4 saved at Structured_Network/Easy_examples/Generated_model/Stage_4/trainable_model_stage_4-2024_11_02_15_35_18.pkl\n",
      "Results of Stage 4 saved in Structured_Network/Easy_examples/Generated_model/Stage_4/Stage_4_results_2024_11_02_15_35_18.txt\n"
     ]
    }
   ],
   "source": [
    "visualizer = 10\n",
    "level_changer = 50\n",
    "lr_changer = 250\n",
    "stage_changer = 400\n",
    "N=500\n",
    "model = 'trainable_model_stage'\n",
    "current_time = datetime.now().strftime(\"%Y_%m_%d_%H_%M_%S\")\n",
    "\n",
    "for stage in range(4,5): \n",
    "    save_dir = f\"Structured_Network/Easy_examples/Generated_model/Stage_{stage}\" \n",
    "    os.makedirs(save_dir, exist_ok=True) \n",
    "    results_file = os.path.join(save_dir, f\"Stage_{stage}_results_{current_time}.txt\") \n",
    "    tee = Tee(results_file, 'w') \n",
    "    sys.stdout = tee       \n",
    "\n",
    "    try:\n",
    "        test_size, correct_predictions_count = test_stages_neural_network(params=globals()[f\"{model}_{stage}\"], stage=stage)\n",
    "        final_loss = 1\n",
    "        lr = 0.001\n",
    "        level = 5\n",
    "        response = \"yes\"\n",
    "        while final_loss != 0:\n",
    "            prev_model = globals()[f\"{model}_{stage}\"]\n",
    "            globals()[f\"{model}_{stage}\"], final_loss = train_stages_neural_network(params=globals()[f\"{model}_{stage}\"], stage=stage, level=level, lr=lr, epochs=N)\n",
    "            trainings_needed[stage-1] += 1\n",
    "            \n",
    "            if math.isnan(final_loss):\n",
    "                globals()[f\"{model}_{stage}\"] = prev_model\n",
    "                print('Loss in NaN')\n",
    "                break    \n",
    "                \n",
    "            if trainings_needed[stage-1] % visualizer == 0:\n",
    "                if response.lower() == \"yes\":\n",
    "                    test_size, correct_predictions_count = test_stages_neural_network(params=globals()[f\"{model}_{stage}\"], stage=stage)\n",
    "                    print(f\"STAGE {stage}: Out of {test_size}, {correct_predictions_count} were predicted correctly in the current model.\")\n",
    "                elif response.lower() == \"no\":\n",
    "                    print(f\"STAGE {stage}: Objective completed, all are predicted correctly in the current model.\")\n",
    "                print(f\"STAGE {stage}: Loss is {final_loss}.\")\n",
    "\n",
    "            if trainings_needed[stage-1] % level_changer == 0:\n",
    "                new_level = input(f\"Change level of examples? (Current one is {level}, press enter if not): \")\n",
    "                if new_level.lower() == \"no\":\n",
    "                    pass\n",
    "                elif new_level != \"\":\n",
    "                    level = int(new_level)\n",
    "                    \n",
    "            if trainings_needed[stage-1] % lr_changer == 0:\n",
    "                new_lr = input(f\"Change of leraning rate? (Current one is {lr}, press enter if not): \")\n",
    "                if new_lr.lower() == \"no\":\n",
    "                    pass\n",
    "                elif new_lr != \"\":\n",
    "                    lr = float(new_lr)\n",
    "                    \n",
    "            if trainings_needed[stage-1] % stage_changer == 0:\n",
    "                response_pre = input(\"Skip to next stage? (yes/no): \")\n",
    "                if response_pre.lower() == \"yes\":\n",
    "                    break\n",
    "                    \n",
    "            if correct_predictions_count == test_size:\n",
    "                response = \"yesno\"\n",
    "                while response.lower() not in [\"yes\", \"no\"]:\n",
    "                    response = input(\"Objective completed, skip to next stage? (yes/no): \")\n",
    "                    if response.lower() not in [\"yes\", \"no\"]:\n",
    "                        print('Incorrect answer')        \n",
    "                if response.lower() == \"yes\":\n",
    "                    break\n",
    "                elif response.lower() == \"no\":\n",
    "                    test_size = correct_predictions_count + 1\n",
    "\n",
    "        print(f'Stage {stage} completed in {trainings_needed[stage-1]} trainings.')\n",
    "        save_response = input(f\"Do you want to save the model {model}_{stage}? (yes/no): \")\n",
    "        if save_response.lower() == 'yes':\n",
    "            save_path = os.path.join(save_dir, f\"{model}_{stage}-{current_time}.pkl\")\n",
    "            with open(save_path, 'wb') as f:\n",
    "                pickle.dump(globals()[f\"{model}_{stage}\"], f)\n",
    "            print(f\"Model {model}_{stage} saved at {save_path}\")\n",
    "            \n",
    "    finally:\n",
    "        sys.stdout = tee.console\n",
    "        tee.close()\n",
    "    print(f\"Results of Stage {stage} saved in {results_file}\")"
   ]
  },
  {
   "cell_type": "code",
   "execution_count": 9,
   "id": "3b103bd4-73af-4234-a011-13297cf86c36",
   "metadata": {},
   "outputs": [
    {
     "name": "stdout",
     "output_type": "stream",
     "text": [
      "Ha fallado 5 por 1.\n",
      "Ha fallado 6 por 1.\n",
      "Ha fallado 7 por 1.\n",
      "Ha fallado 9 por 1.\n",
      "Ha fallado 1 por 2.\n",
      "Ha fallado 9 por 2.\n",
      "Ha fallado 5 por 3.\n",
      "Ha fallado 7 por 3.\n",
      "Ha fallado 6 por 4.\n",
      "Ha fallado 7 por 4.\n",
      "Ha fallado 7 por 5.\n",
      "Ha fallado 1 por 6.\n",
      "Ha fallado 4 por 6.\n",
      "Ha fallado 6 por 6.\n",
      "Ha fallado 9 por 6.\n",
      "Ha fallado 4 por 7.\n",
      "Ha fallado 6 por 7.\n",
      "Ha fallado 5 por 8.\n",
      "Ha fallado 7 por 8.\n",
      "Ha fallado 8 por 8.\n",
      "Ha fallado 9 por 8.\n",
      "Ha fallado 1 por 9.\n",
      "Ha fallado 5 por 9.\n",
      "Ha fallado 8 por 9.\n",
      "Ha fallado 9 por 9.\n",
      "STAGE 4: Out of 100, 75 were predicted correctly in the current model.\n"
     ]
    }
   ],
   "source": [
    "visualize_errors = 1\n",
    "real_test = 0\n",
    "stage = 4\n",
    "\n",
    "test_size, correct_predictions_count = test_stages_neural_network(params=globals()[f\"{model}_{stage}\"], stage=stage, visualize_errors=visualize_errors, real_test=real_test)\n",
    "print(f\"STAGE {stage}: Out of {test_size}, {correct_predictions_count} were predicted correctly in the current model.\")"
   ]
  },
  {
   "cell_type": "code",
   "execution_count": null,
   "id": "a8ba1d16-50c9-4f4c-a0d7-c61d13c7ecdf",
   "metadata": {},
   "outputs": [],
   "source": []
  }
 ],
 "metadata": {
  "kernelspec": {
   "display_name": "Python 3 (ipykernel)",
   "language": "python",
   "name": "python3"
  },
  "language_info": {
   "codemirror_mode": {
    "name": "ipython",
    "version": 3
   },
   "file_extension": ".py",
   "mimetype": "text/x-python",
   "name": "python",
   "nbconvert_exporter": "python",
   "pygments_lexer": "ipython3",
   "version": "3.13.0"
  }
 },
 "nbformat": 4,
 "nbformat_minor": 5
}
