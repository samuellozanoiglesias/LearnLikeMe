{
 "cells": [
  {
   "cell_type": "code",
   "execution_count": 6,
   "id": "98558e0d-b53a-412c-81a9-9bb54f749c76",
   "metadata": {},
   "outputs": [],
   "source": [
    "import jax.numpy as jnp\n",
    "from sklearn.model_selection import train_test_split\n",
    "import os\n",
    "import random"
   ]
  },
  {
   "cell_type": "code",
   "execution_count": 19,
   "id": "92293af0-33a3-408d-98e3-a37a680a8a7c",
   "metadata": {},
   "outputs": [],
   "source": [
    "# Función para generar los datos, dividirlos en entrenamiento y prueba, y guardarlos en archivos .txt\n",
    "def generate_final_data_and_save():\n",
    "    x_data = []\n",
    "    y_data = []\n",
    "    \n",
    "    for a_dec in range(10):\n",
    "        for a_unit in range(10):\n",
    "            for b_dec in range(10):\n",
    "                for b_unit in range(10):\n",
    "                    x_data.append([a_dec, a_unit, b_dec, b_unit])  # Entrada\n",
    "                    sum_units = (a_unit + b_unit) % 10\n",
    "                    carry_units = 1 if (a_unit + b_unit) >= 10 else 0\n",
    "                    sum_dec = (a_dec + b_dec + carry_units) % 10\n",
    "                    carry_dec = 1 if (a_dec + b_dec + carry_units) >= 10 else 0\n",
    "                    y_data.append([carry_dec, sum_dec, sum_units])  # Salida\n",
    "\n",
    "    # Convertir los datos a arrays de JAX\n",
    "    x_data = jnp.array(x_data)\n",
    "    y_data = jnp.array(y_data)\n",
    "    \n",
    "    # Crear un DataFrame de pandas para los datos completos\n",
    "    data = list(zip(x_data.tolist(), y_data.tolist()))\n",
    "\n",
    "    # Dividir los datos en entrenamiento (80%) y prueba (20%) de forma aleatoria\n",
    "    train_data, test_data = train_test_split(data, test_size=0.2, random_state=42)\n",
    "\n",
    "    # Ruta donde guardar los archivos\n",
    "    folder_path = r'D:\\OneDrive - Universidad Complutense de Madrid (UCM)\\Doctorado\\Curriculum_Learning\\Multidigit_Addition_Decimal'\n",
    "    \n",
    "    # Asegurarse de que la carpeta exista\n",
    "    os.makedirs(folder_path, exist_ok=True)\n",
    "    \n",
    "    # Guardar los conjuntos en archivos .txt\n",
    "    with open(os.path.join(folder_path, 'train_dataset.txt'), 'w') as f_train:\n",
    "        for x, y in train_data:\n",
    "            f_train.write(' '.join(map(str, x)) + ' ' + ' '.join(map(str, y)) + '\\n')\n",
    "\n",
    "    with open(os.path.join(folder_path, 'test_dataset.txt'), 'w') as f_test:\n",
    "        for x, y in test_data:\n",
    "            f_test.write(' '.join(map(str, x)) + ' ' + ' '.join(map(str, y)) + '\\n')\n",
    "\n",
    "    print(f\"Conjunto de datos guardado como 'train_dataset.txt' y 'test_dataset.txt' en {folder_path}\")"
   ]
  },
  {
   "cell_type": "code",
   "execution_count": 20,
   "id": "6d69903b-b07c-4694-8597-7ce5a97d3c6f",
   "metadata": {},
   "outputs": [
    {
     "name": "stdout",
     "output_type": "stream",
     "text": [
      "Conjunto de datos guardado como 'train_dataset.txt' y 'test_dataset.txt' en D:\\OneDrive - Universidad Complutense de Madrid (UCM)\\Doctorado\\Curriculum_Learning\\Multidigit_Addition_Decimal\n"
     ]
    }
   ],
   "source": [
    "# Llamada a la función\n",
    "generate_final_data_and_save()"
   ]
  },
  {
   "cell_type": "code",
   "execution_count": 2,
   "id": "c3441e2c-d8da-4311-b51a-a2d920981e5f",
   "metadata": {},
   "outputs": [
    {
     "name": "stdout",
     "output_type": "stream",
     "text": [
      "Archivo guardado en: D:/OneDrive - Universidad Complutense de Madrid (UCM)/Doctorado/Curriculum_Learning/Multidigit_Addition_Decimal\\stimuli.txt\n",
      "Archivo guardado en: D:/OneDrive - Universidad Complutense de Madrid (UCM)/Doctorado/Curriculum_Learning/Multidigit_Addition_Decimal\\train_couples_stimuli.txt\n"
     ]
    }
   ],
   "source": [
    "folder_path = \"D:/OneDrive - Universidad Complutense de Madrid (UCM)/Doctorado/Curriculum_Learning/Multidigit_Addition_Decimal\"\n",
    "\n",
    "test_pairs = [\n",
    "    (4, 3), (3, 4), (25, 62), (62, 25), (6, 13), (13, 6), (37, 41), (41, 37),\n",
    "    (7, 2), (2, 7), (24, 62), (62, 24), (12, 7), (7, 12), (42, 34), (34, 42),\n",
    "    (5, 14), (14, 5), (21, 74), (74, 21), (12, 13), (13, 12), (24, 45), (45, 24),\n",
    "    (16, 12), (12, 16), (24, 71), (71, 24), (4, 13), (13, 4), (41, 35), (35, 41),\n",
    "    (14, 15), (15, 14), (65, 32), (32, 65), (13, 16), (16, 13), (43, 25), (25, 43),\n",
    "    (5, 3), (3, 5), (65, 21), (21, 65), (12, 15), (15, 12), (42, 32), (32, 42),\n",
    "    (14, 12), (12, 14), (41, 38), (38, 41), (15, 13), (13, 15), (74, 23), (23, 74),\n",
    "    (13, 14), (14, 13), (31, 45), (45, 31), (4, 15), (15, 4), (65, 31), (31, 65),\n",
    "    (2, 13), (13, 2), (24, 43), (43, 24), (2, 17), (17, 2), (61, 32), (32, 61),\n",
    "    (14, 4), (4, 14), (32, 47), (47, 32), (12, 5), (5, 12), (53, 36), (36, 53),\n",
    "    (16, 3), (3, 16), (28, 51), (51, 28), (5, 13), (13, 5), (36, 43), (43, 36),\n",
    "    (14, 3), (3, 14), (67, 32), (32, 67), (17, 12), (12, 17), (26, 43), (43, 26),\n",
    "    (5, 7), (7, 5), (47, 38), (38, 47), (13, 8), (8, 13), (26, 65), (65, 26),\n",
    "    (8, 6), (6, 8), (29, 48), (48, 29), (9, 4), (4, 9), (39, 26), (26, 39),\n",
    "    (8, 7), (7, 8), (37, 46), (46, 37), (17, 6), (6, 17), (46, 35), (35, 46),\n",
    "    (7, 17), (17, 7), (34, 57), (57, 34), (19, 5), (5, 19), (36, 47), (47, 36),\n",
    "    (6, 15), (15, 6), (52, 29), (29, 52), (4, 17), (17, 4), (34, 49), (49, 34),\n",
    "    (7, 6), (6, 7), (27, 45), (45, 27), (13, 18), (18, 13), (38, 25), (25, 38),\n",
    "    (9, 5), (5, 9), (25, 67), (67, 25), (5, 16), (16, 5), (65, 28), (28, 65),\n",
    "    (5, 8), (8, 5), (35, 27), (27, 35), (7, 9), (9, 7), (45, 39), (39, 45),\n",
    "    (18, 7), (7, 18), (46, 36), (36, 46), (17, 19), (19, 17), (29, 67), (67, 29),\n",
    "    (14, 17), (17, 14), (39, 28), (28, 39), (19, 15), (15, 19), (49, 32), (32, 49),\n",
    "    (15, 8), (8, 15), (64, 28), (28, 64), (8, 9), (9, 8), (24, 68), (68, 24),\n",
    "    (9, 14), (14, 9), (29, 38), (38, 29), (7, 4), (4, 7), (28, 69), (69, 28)\n",
    "]\n",
    "\n",
    "# Escribir las parejas en el archivo stimuli.txt\n",
    "file_path = os.path.join(folder_path, \"stimuli.txt\")\n",
    "with open(file_path, \"w\") as file:\n",
    "    file.write(str(test_pairs))\n",
    "\n",
    "print(f\"Archivo guardado en: {file_path}\")\n",
    "\n",
    "# Crear todas las combinaciones posibles de números entre 0 y 99\n",
    "all_combinations = [(a, b) for a in range(100) for b in range(100)]\n",
    "\n",
    "# Determinar qué combinaciones no están en la lista dada\n",
    "missing_combinations = [pair for pair in all_combinations if pair not in test_pairs]\n",
    "ordered_missing_combinations = sorted(missing_combinations, key=lambda pair: sum(pair))\n",
    "\n",
    "# Guardar en el archivo\n",
    "file_path = os.path.join(folder_path, \"train_couples_stimuli.txt\")\n",
    "with open(file_path, \"w\") as file:\n",
    "    file.write(str(ordered_missing_combinations))\n",
    "print(\"Archivo guardado en:\", file_path)"
   ]
  },
  {
   "cell_type": "code",
   "execution_count": 7,
   "id": "f68e34ff-e25b-483b-aad8-72b0c967dea2",
   "metadata": {},
   "outputs": [],
   "source": [
    "# Cargar los datos desde los archivos .txt\n",
    "def load_pairs(filename, path):\n",
    "    file_path = os.path.join(path, filename)\n",
    "    with open(file_path, \"r\") as file:\n",
    "        content = file.read().strip()\n",
    "        return eval(content)  # Convierte el contenido del archivo en una lista de tuplas\n",
    "\n",
    "# Función para repetir elementos hasta completar un tamaño dado\n",
    "def repeat_until_size(source_list, target_size):\n",
    "    repeated_list = []\n",
    "    while len(repeated_list) < target_size:\n",
    "        repeated_list.extend(source_list)\n",
    "    return repeated_list[:target_size]\n",
    "\n",
    "def sum_of_pair(pair):\n",
    "    a, b = pair \n",
    "    return a + b"
   ]
  },
  {
   "cell_type": "code",
   "execution_count": 8,
   "id": "7cdabbc9-9ce6-4dd7-ba15-71b15027797e",
   "metadata": {},
   "outputs": [],
   "source": [
    "folder_path = \"D:/OneDrive - Universidad Complutense de Madrid (UCM)/Doctorado/Curriculum_Learning/Multidigit_Addition_Decimal\"\n",
    "\n",
    "# Archivos de entrada\n",
    "train_file = \"train_couples_stimuli.txt\"\n",
    "carry_over_file = \"combinations_with_carry_over.txt\"\n",
    "small_file = \"combinations_small_problem_size.txt\"\n",
    "large_file = \"combinations_large_problem_size.txt\"\n",
    "\n",
    "# Cargar datos\n",
    "train_couples = load_pairs(train_file, folder_path)\n",
    "carry_over = set(load_pairs(carry_over_file, folder_path))\n",
    "small_problems = set(load_pairs(small_file, folder_path))\n",
    "large_problems = set(load_pairs(large_file, folder_path))"
   ]
  },
  {
   "cell_type": "code",
   "execution_count": 23,
   "id": "8b18d381-bdc5-45ad-b940-2bccf54c020a",
   "metadata": {},
   "outputs": [
    {
     "name": "stdout",
     "output_type": "stream",
     "text": [
      "Longitud del dataset: 9808\n",
      "Archivo guardado en: D:/OneDrive - Universidad Complutense de Madrid (UCM)/Doctorado/Curriculum_Learning/Multidigit_Addition_Decimal\\sorted_train_couples_stimuli.txt\n"
     ]
    }
   ],
   "source": [
    "# Filtrar y ordenar sin incluir carry_over\n",
    "filtered_1 = sorted(\n",
    "    [pair for pair in train_couples if pair in small_problems and pair not in carry_over],\n",
    "    key=sum_of_pair\n",
    ")\n",
    "\n",
    "filtered_2 = sorted(\n",
    "    [pair for pair in train_couples if pair not in small_problems and pair not in large_problems and pair not in carry_over],\n",
    "    key=sum_of_pair\n",
    ")\n",
    "\n",
    "# Combinar los subgrupos\n",
    "sorted_couples_without_carry = filtered_1 + filtered_2\n",
    "\n",
    "# Filtrar y ordenar incluyendo carry_over\n",
    "filtered_4 = sorted(\n",
    "    [pair for pair in train_couples if pair in small_problems and pair in carry_over],\n",
    "    key=sum_of_pair\n",
    ")\n",
    "\n",
    "filtered_5 = sorted(\n",
    "    [pair for pair in train_couples if pair not in small_problems and pair not in large_problems and pair in carry_over],\n",
    "    key=sum_of_pair\n",
    ")\n",
    "\n",
    "# Combinar los subgrupos incluyendo carry_over\n",
    "sorted_couples_with_carry = filtered_4 + filtered_5\n",
    "\n",
    "filtered_3 = sorted(\n",
    "    [pair for pair in train_couples if pair in large_problems and pair not in carry_over],\n",
    "    key=sum_of_pair\n",
    ")\n",
    "\n",
    "filtered_6 = sorted(\n",
    "    [pair for pair in train_couples if pair in large_problems and pair in carry_over],\n",
    "    key=sum_of_pair\n",
    ")\n",
    "\n",
    "# Combinar los subgrupos incluyendo carry_over\n",
    "sorted_couples_large = filtered_3 + filtered_6\n",
    "\n",
    "# Combinar ambas listas\n",
    "final_sorted_couples = sorted_couples_without_carry + sorted_couples_with_carry + sorted_couples_large\n",
    "\n",
    "# Guardar en el archivo\n",
    "file_path = os.path.join(folder_path, \"sorted_train_couples_stimuli.txt\")\n",
    "with open(file_path, \"w\") as file:\n",
    "    file.write(str(final_sorted_couples))\n",
    "\n",
    "print(f\"Longitud del dataset: {len(final_sorted_couples)}\")\n",
    "print(\"Archivo guardado en:\", file_path)"
   ]
  },
  {
   "cell_type": "code",
   "execution_count": 4,
   "id": "acf31e6f-8384-4323-b822-d24874998931",
   "metadata": {},
   "outputs": [
    {
     "name": "stdout",
     "output_type": "stream",
     "text": [
      "Archivo guardado en: D:/OneDrive - Universidad Complutense de Madrid (UCM)/Doctorado/Curriculum_Learning/Multidigit_Addition_Decimal\\not_sorted_train_couples_stimuli.txt\n"
     ]
    }
   ],
   "source": [
    "# Crear subconjuntos de datos según las condiciones\n",
    "subset_small_not_in_carry = [pair for pair in train_couples if pair not in carry_over and pair in small_problems][:6198]\n",
    "subset_small_not_in_carry = repeat_until_size(subset_small_not_in_carry, 6198)\n",
    "\n",
    "# Subset_2 con proporciones exactas y repetición\n",
    "subset_small_in_carry = [pair for pair in train_couples if pair in small_problems and pair in carry_over][:6198]\n",
    "subset_small_in_carry = repeat_until_size(subset_small_in_carry, 6198)\n",
    "\n",
    "subset_large_not_in_carry = [pair for pair in train_couples if pair not in carry_over and pair in large_problems][:6198]\n",
    "subset_large_not_in_carry = repeat_until_size(subset_large_not_in_carry, 6198)\n",
    "\n",
    "# Subset_4 con proporciones exactas y repetición\n",
    "subset_large_in_carry = [pair for pair in train_couples if pair in large_problems and pair in carry_over][:6198]\n",
    "subset_large_in_carry = repeat_until_size(subset_large_in_carry, 6198)\n",
    "\n",
    "sorted_couples = subset_small_not_in_carry + subset_small_in_carry + subset_large_not_in_carry + subset_large_in_carry\n",
    "random.shuffle(sorted_couples)\n",
    "\n",
    "# Guardar en el archivo\n",
    "file_path = os.path.join(folder_path, \"not_sorted_train_couples_stimuli.txt\")\n",
    "with open(file_path, \"w\") as file:\n",
    "    file.write(str(sorted_couples))\n",
    "    \n",
    "print(\"Archivo guardado en:\", file_path)"
   ]
  },
  {
   "cell_type": "code",
   "execution_count": 5,
   "id": "a7dd555f-89ad-49e9-a33a-4f775f0b4896",
   "metadata": {},
   "outputs": [
    {
     "name": "stdout",
     "output_type": "stream",
     "text": [
      "Archivo guardado en: D:/OneDrive - Universidad Complutense de Madrid (UCM)/Doctorado/Curriculum_Learning/Multidigit_Addition_Decimal\\sorted_train_couples_stimuli.txt\n"
     ]
    }
   ],
   "source": [
    "# Crear subconjuntos de datos según las condiciones\n",
    "subset_small_not_in_carry = [pair for pair in train_couples if pair not in carry_over and pair in small_problems][:6198]\n",
    "subset_small_not_in_carry = repeat_until_size(subset_small_not_in_carry, 6198)\n",
    "\n",
    "# Subset_2 con proporciones exactas y repetición\n",
    "subset_small_in_carry = [pair for pair in train_couples if pair in small_problems and pair in carry_over][:6198]\n",
    "subset_small_in_carry = repeat_until_size(subset_small_in_carry, 6198)\n",
    "\n",
    "subset_large_not_in_carry = [pair for pair in train_couples if pair not in carry_over and pair in large_problems][:6198]\n",
    "subset_large_not_in_carry = repeat_until_size(subset_large_not_in_carry, 6198)\n",
    "\n",
    "# Subset_4 con proporciones exactas y repetición\n",
    "subset_large_in_carry = [pair for pair in train_couples if pair in large_problems and pair in carry_over][:6198]\n",
    "subset_large_in_carry = repeat_until_size(subset_large_in_carry, 6198)\n",
    "\n",
    "sorted_couples = subset_small_not_in_carry + subset_small_in_carry + subset_large_not_in_carry + subset_large_in_carry\n",
    "sorted_couples = sorted(sorted_couples, key=lambda pair: sum(pair))\n",
    "\n",
    "# Guardar en el archivo\n",
    "file_path = os.path.join(folder_path, \"sorted_train_couples_stimuli.txt\")\n",
    "with open(file_path, \"w\") as file:\n",
    "    file.write(str(sorted_couples))\n",
    "    \n",
    "print(\"Archivo guardado en:\", file_path)"
   ]
  },
  {
   "cell_type": "code",
   "execution_count": 10,
   "id": "0fc1a4cd-05da-42a9-ba59-4a377fee2847",
   "metadata": {},
   "outputs": [
    {
     "name": "stdout",
     "output_type": "stream",
     "text": [
      "Archivo guardado en: D:/OneDrive - Universidad Complutense de Madrid (UCM)/Doctorado/Curriculum_Learning/Multidigit_Addition_Decimal\\small_no_carry_train_couples_stimuli.txt\n"
     ]
    }
   ],
   "source": [
    "# Crear subconjuntos de datos según las condiciones\n",
    "subset_small_not_in_carry = [pair for pair in train_couples if pair not in carry_over and pair in small_problems][:6198]\n",
    "subset_small_not_in_carry = repeat_until_size(subset_small_not_in_carry, 6198)\n",
    "\n",
    "# Guardar en el archivo\n",
    "file_path = os.path.join(folder_path, \"small_no_carry_train_couples_stimuli.txt\")\n",
    "with open(file_path, \"w\") as file:\n",
    "    file.write(str(subset_small_not_in_carry))\n",
    "    \n",
    "print(\"Archivo guardado en:\", file_path)"
   ]
  },
  {
   "cell_type": "code",
   "execution_count": 6,
   "id": "e46ce215-bbd3-4ec1-8b96-a82d50a44c5c",
   "metadata": {},
   "outputs": [
    {
     "ename": "NameError",
     "evalue": "name 'random' is not defined",
     "output_type": "error",
     "traceback": [
      "\u001b[1;31m---------------------------------------------------------------------------\u001b[0m",
      "\u001b[1;31mNameError\u001b[0m                                 Traceback (most recent call last)",
      "Cell \u001b[1;32mIn[6], line 24\u001b[0m\n\u001b[0;32m     22\u001b[0m subset_2_in_carry \u001b[38;5;241m=\u001b[39m repeat_until_size(subset_2_in_carry, \u001b[38;5;241m200\u001b[39m)\n\u001b[0;32m     23\u001b[0m subset_2_not_in_carry \u001b[38;5;241m=\u001b[39m repeat_until_size(subset_2_not_in_carry, \u001b[38;5;241m500\u001b[39m)\n\u001b[1;32m---> 24\u001b[0m subset_2 \u001b[38;5;241m=\u001b[39m \u001b[43mrandom\u001b[49m\u001b[38;5;241m.\u001b[39msample(subset_2_in_carry \u001b[38;5;241m+\u001b[39m subset_2_not_in_carry, \u001b[38;5;241m700\u001b[39m)\n\u001b[0;32m     26\u001b[0m subset_3 \u001b[38;5;241m=\u001b[39m [pair \u001b[38;5;28;01mfor\u001b[39;00m pair \u001b[38;5;129;01min\u001b[39;00m train_couples \u001b[38;5;28;01mif\u001b[39;00m pair \u001b[38;5;129;01mnot\u001b[39;00m \u001b[38;5;129;01min\u001b[39;00m carry_over \u001b[38;5;129;01mand\u001b[39;00m pair \u001b[38;5;129;01min\u001b[39;00m large_problems][:\u001b[38;5;241m200\u001b[39m]\n\u001b[0;32m     27\u001b[0m subset_3 \u001b[38;5;241m=\u001b[39m repeat_until_size(subset_3, \u001b[38;5;241m200\u001b[39m)\n",
      "\u001b[1;31mNameError\u001b[0m: name 'random' is not defined"
     ]
    }
   ],
   "source": [
    "folder_path = \"D:/OneDrive - Universidad Complutense de Madrid (UCM)/Doctorado/Curriculum_Learning/Multidigit_Addition_Decimal\"\n",
    "\n",
    "# Archivos de entrada\n",
    "train_file = \"train_couples_stimuli.txt\"\n",
    "carry_over_file = \"combinations_with_carry_over.txt\"\n",
    "small_file = \"combinations_small_problem_size.txt\"\n",
    "large_file = \"combinations_large_problem_size.txt\"\n",
    "\n",
    "# Cargar datos\n",
    "train_couples = load_pairs(train_file, folder_path)\n",
    "carry_over = set(load_pairs(carry_over_file, folder_path))\n",
    "small_problems = set(load_pairs(small_file, folder_path))\n",
    "large_problems = set(load_pairs(large_file, folder_path))\n",
    "\n",
    "# Crear subconjuntos de datos según las condiciones\n",
    "subset_1 = [pair for pair in train_couples if pair not in carry_over and pair in small_problems][:300]\n",
    "subset_1 = repeat_until_size(subset_1, 300)\n",
    "\n",
    "# Subset_2 con proporciones exactas y repetición\n",
    "subset_2_in_carry = [pair for pair in train_couples if pair in small_problems and pair in carry_over][:150]\n",
    "subset_2_not_in_carry = [pair for pair in train_couples if pair in small_problems and pair not in carry_over][:550]\n",
    "subset_2_in_carry = repeat_until_size(subset_2_in_carry, 200)\n",
    "subset_2_not_in_carry = repeat_until_size(subset_2_not_in_carry, 500)\n",
    "subset_2 = random.sample(subset_2_in_carry + subset_2_not_in_carry, 700)\n",
    "\n",
    "subset_3 = [pair for pair in train_couples if pair not in carry_over and pair in large_problems][:200]\n",
    "subset_3 = repeat_until_size(subset_3, 200)\n",
    "\n",
    "# Subset_4 con proporciones exactas y repetición\n",
    "subset_4_in_carry = [pair for pair in train_couples if pair in large_problems and pair in carry_over][:50]\n",
    "subset_4_not_in_carry = [pair for pair in train_couples if pair in large_problems and pair not in carry_over][:150]\n",
    "subset_4_in_carry = repeat_until_size(subset_4_in_carry, 50)\n",
    "subset_4_not_in_carry = repeat_until_size(subset_4_not_in_carry, 150)\n",
    "subset_4 = random.sample(subset_4_in_carry + subset_4_not_in_carry, 200)\n",
    "\n",
    "subset_5 = (\n",
    "    repeat_until_size([pair for pair in train_couples if pair in large_problems and pair in carry_over], 50)\n",
    "    + repeat_until_size([pair for pair in train_couples if pair in large_problems and pair not in carry_over], 50)\n",
    "    + repeat_until_size([pair for pair in train_couples if pair in small_problems and pair in carry_over], 50)\n",
    "    + repeat_until_size([pair for pair in train_couples if pair in small_problems and pair not in carry_over], 50)\n",
    ")\n",
    "\n",
    "# Combinar las primeras 1600 parejas\n",
    "sorted_couples = subset_1 + subset_2 + subset_3 + subset_4 + subset_5\n",
    "\n",
    "# Añadir las parejas restantes hasta completar 9808\n",
    "remaining_couples = []\n",
    "while len(sorted_couples) + len(remaining_couples) < 9808:\n",
    "    remaining_couples.append(random.choice(train_couples))\n",
    "\n",
    "# Cortar la lista final para que tenga exactamente 9808 parejas\n",
    "sorted_couples = (sorted_couples + remaining_couples)[:9808]\n",
    "\n",
    "# Guardar en el archivo\n",
    "file_path = os.path.join(folder_path, \"sorted_train_couples_stimuli.txt\")\n",
    "with open(file_path, \"w\") as file:\n",
    "    file.write(str(sorted_couples))\n",
    "    \n",
    "print(\"Archivo guardado en:\", file_path)"
   ]
  },
  {
   "cell_type": "code",
   "execution_count": null,
   "id": "0afde4e5-6989-44c2-a72a-01e2308d6e78",
   "metadata": {},
   "outputs": [],
   "source": []
  }
 ],
 "metadata": {
  "kernelspec": {
   "display_name": "Python 3 (ipykernel)",
   "language": "python",
   "name": "python3"
  },
  "language_info": {
   "codemirror_mode": {
    "name": "ipython",
    "version": 3
   },
   "file_extension": ".py",
   "mimetype": "text/x-python",
   "name": "python",
   "nbconvert_exporter": "python",
   "pygments_lexer": "ipython3",
   "version": "3.11.0"
  }
 },
 "nbformat": 4,
 "nbformat_minor": 5
}
