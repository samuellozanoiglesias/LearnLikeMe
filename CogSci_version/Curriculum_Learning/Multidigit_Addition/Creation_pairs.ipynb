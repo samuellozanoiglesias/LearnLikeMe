{
 "cells": [
  {
   "cell_type": "code",
   "execution_count": 2,
   "id": "7863c171-9d9d-4d94-b587-f4ac57ae7c19",
   "metadata": {},
   "outputs": [],
   "source": [
    "import pandas as pd\n",
    "import numpy as np\n",
    "import math\n",
    "import ast \n",
    "\n",
    "import jax\n",
    "import jax.numpy as jnp\n",
    "from jax import random, grad\n",
    "from jax.nn import relu, sigmoid\n",
    "from functools import partial\n",
    "\n",
    "import matplotlib.pyplot as plt\n",
    "\n",
    "import pytz\n",
    "import os\n",
    "import random\n",
    "import sys\n",
    "import pickle\n",
    "from datetime import datetime"
   ]
  },
  {
   "cell_type": "code",
   "execution_count": 3,
   "id": "33fee7ce-3836-40b3-b5f6-5490faf13cbc",
   "metadata": {},
   "outputs": [],
   "source": [
    "def has_carry_in_binary(a, b):\n",
    "    carry = 0\n",
    "    while a > 0 or b > 0:  # Mientras queden bits en a o b\n",
    "        bit_a = a & 1  # Extrae el bit menos significativo de a\n",
    "        bit_b = b & 1  # Extrae el bit menos significativo de b\n",
    "        # Verificar si hay llevada en el bit actual\n",
    "        if (bit_a + bit_b + carry) >= 2:\n",
    "            return True\n",
    "        # Actualizar carry para el próximo bit\n",
    "        carry = (bit_a + bit_b + carry) // 2\n",
    "        # Avanzar al siguiente bit\n",
    "        a >>= 1\n",
    "        b >>= 1\n",
    "    return False\n",
    "\n",
    "def has_carry_in_decimal(a, b):\n",
    "    carry = 0\n",
    "    while a > 0 or b > 0:  # Mientras queden dígitos en a o b\n",
    "        digit_a = a % 10  # Extrae el dígito menos significativo de a\n",
    "        digit_b = b % 10  # Extrae el dígito menos significativo de b\n",
    "        # Verificar si hay llevada en el dígito actual\n",
    "        if (digit_a + digit_b + carry) >= 10:\n",
    "            return True\n",
    "        # Actualizar carry para el próximo dígito\n",
    "        carry = (digit_a + digit_b + carry) // 10\n",
    "        # Avanzar al siguiente dígito\n",
    "        a //= 10\n",
    "        b //= 10\n",
    "    return False"
   ]
  },
  {
   "cell_type": "code",
   "execution_count": 4,
   "id": "6929f7a8-d24b-49b4-9698-b3b1e5512858",
   "metadata": {},
   "outputs": [
    {
     "data": {
      "text/plain": [
       "'D:/OneDrive - Universidad Complutense de Madrid (UCM)/Doctorado/Curriculum_Learning/Multidigit_Addition/real_test_dataset_with_carry_over.txt'"
      ]
     },
     "execution_count": 4,
     "metadata": {},
     "output_type": "execute_result"
    }
   ],
   "source": [
    "# Generar todas las combinaciones de números entre 0 y 100 con llevadas\n",
    "real_test_dataset_with_carry_over = [\n",
    "    (a, b) for a in range(128) for b in range(128) if has_carry_in_binary(a, b)\n",
    "]\n",
    "\n",
    "# Guardar las combinaciones en un archivo\n",
    "file_path = 'D:/OneDrive - Universidad Complutense de Madrid (UCM)/Doctorado/Curriculum_Learning/Multidigit_Addition/real_test_dataset_with_carry_over.txt'\n",
    "with open(file_path, 'w') as file:\n",
    "    file.write(str(real_test_dataset_with_carry_over))\n",
    "\n",
    "file_path"
   ]
  },
  {
   "cell_type": "code",
   "execution_count": null,
   "id": "e2135215-9486-490c-940b-f8e47ae2d6e2",
   "metadata": {},
   "outputs": [],
   "source": [
    "# Generar todas las combinaciones de números entre 0 y 100 con llevadas\n",
    "combinations_with_carry = [\n",
    "    (a, b) for a in range(100) for b in range(100) if has_carry_in_binary(a, b)\n",
    "]\n",
    "\n",
    "# Guardar las combinaciones en un archivo\n",
    "file_path = 'D:/OneDrive - Universidad Complutense de Madrid (UCM)/Doctorado/Curriculum_Learning/Multidigit_Addition/combinations_with_carry_over.txt'\n",
    "with open(file_path, 'w') as file:\n",
    "    file.write(str(combinations_with_carry))\n",
    "\n",
    "file_path"
   ]
  },
  {
   "cell_type": "code",
   "execution_count": null,
   "id": "aac08205-3b09-42a3-8059-c63e4a8d0ed8",
   "metadata": {},
   "outputs": [],
   "source": [
    "# Generar todas las combinaciones de números entre 0 y 99 con llevadas\n",
    "combinations_with_carry_decimal = [\n",
    "    (a, b) for a in range(100) for b in range(100) if has_carry_in_decimal(a, b)\n",
    "]\n",
    "\n",
    "# Guardar las combinaciones en un archivo\n",
    "file_path = 'D:/OneDrive - Universidad Complutense de Madrid (UCM)/Doctorado/Curriculum_Learning/Multidigit_Addition/combinations_with_carry_over_decimal.txt'\n",
    "with open(file_path, 'w') as file:\n",
    "    file.write(str(combinations_with_carry_decimal))\n",
    "\n",
    "file_path"
   ]
  },
  {
   "cell_type": "code",
   "execution_count": 5,
   "id": "5b9d9ea1-99e2-48f9-9a8a-cf982a5bebd8",
   "metadata": {},
   "outputs": [
    {
     "data": {
      "text/plain": [
       "'D:/OneDrive - Universidad Complutense de Madrid (UCM)/Doctorado/Curriculum_Learning/Multidigit_Addition/real_test_dataset_with_carry_over_decimal.txt'"
      ]
     },
     "execution_count": 5,
     "metadata": {},
     "output_type": "execute_result"
    }
   ],
   "source": [
    "# Generar todas las combinaciones de números entre 0 y 127 con llevadas\n",
    "real_test_dataset_with_carry_over_decimal = [\n",
    "    (a, b) for a in range(128) for b in range(128) if has_carry_in_decimal(a, b)\n",
    "]\n",
    "\n",
    "# Guardar las combinaciones en un archivo\n",
    "file_path = 'D:/OneDrive - Universidad Complutense de Madrid (UCM)/Doctorado/Curriculum_Learning/Multidigit_Addition/real_test_dataset_with_carry_over_decimal.txt'\n",
    "with open(file_path, 'w') as file:\n",
    "    file.write(str(real_test_dataset_with_carry_over_decimal))\n",
    "\n",
    "file_path"
   ]
  },
  {
   "cell_type": "code",
   "execution_count": 5,
   "id": "7ccf5a35-e79a-4367-bfc6-c2384270a543",
   "metadata": {},
   "outputs": [
    {
     "data": {
      "text/plain": [
       "'D:/OneDrive - Universidad Complutense de Madrid (UCM)/Doctorado/Curriculum_Learning/Multidigit_Addition/train_couples.txt'"
      ]
     },
     "execution_count": 5,
     "metadata": {},
     "output_type": "execute_result"
    }
   ],
   "source": [
    "# Generar todas las combinaciones posibles entre 0 y 100\n",
    "all_combinations = [(a, b) for a in range(100) for b in range(100)]\n",
    "\n",
    "# Separar combinaciones con llevadas y sin llevadas\n",
    "with_carry = [pair for pair in all_combinations if pair in combinations_with_carry]\n",
    "without_carry = [pair for pair in all_combinations if pair not in combinations_with_carry]\n",
    "\n",
    "# Calcular el 80% de las combinaciones (entrenamiento)\n",
    "train_size = int(0.8 * len(all_combinations))\n",
    "\n",
    "# Calcular el 80% de cada conjunto (con llevadas y sin llevadas)\n",
    "with_carry_train_size = int(train_size * (len(with_carry) / len(all_combinations)))\n",
    "without_carry_train_size = train_size - with_carry_train_size\n",
    "\n",
    "# Seleccionar combinaciones para entrenamiento\n",
    "train_with_carry = random.sample(with_carry, with_carry_train_size)\n",
    "train_without_carry = random.sample(without_carry, without_carry_train_size)\n",
    "\n",
    "# Combinar ambas listas para entrenamiento\n",
    "train_couples = train_with_carry + train_without_carry\n",
    "\n",
    "# Mezclar las parejas para tener una distribución aleatoria\n",
    "random.shuffle(train_couples)\n",
    "\n",
    "# Guardar las combinaciones de entrenamiento en un archivo\n",
    "train_file_path = 'D:/OneDrive - Universidad Complutense de Madrid (UCM)/Doctorado/Curriculum_Learning/Multidigit_Addition/train_couples.txt'\n",
    "with open(train_file_path, 'w') as file:\n",
    "    file.write(str(train_couples))\n",
    "\n",
    "train_file_path"
   ]
  },
  {
   "cell_type": "code",
   "execution_count": 2,
   "id": "c2728c59-601f-47d9-aeff-89bfd931fd96",
   "metadata": {},
   "outputs": [
    {
     "data": {
      "text/plain": [
       "'D:/OneDrive - Universidad Complutense de Madrid (UCM)/Doctorado/Curriculum_Learning/Multidigit_Addition/real_test_dataset.txt'"
      ]
     },
     "execution_count": 2,
     "metadata": {},
     "output_type": "execute_result"
    }
   ],
   "source": [
    "# Definir el rango máximo para los valores de 7 y 8 bits\n",
    "max_7_bits = 2**7 - 1  # Valor máximo para 7 bits: 127\n",
    "max_8_bits = 2**8 - 1  # Valor máximo para 8 bits: 255\n",
    "\n",
    "# Crear una lista para almacenar las parejas que cumplen la condición\n",
    "dataset = []\n",
    "\n",
    "# Iterar sobre todos los valores posibles para a_i y b_i en el rango de 7 bits\n",
    "for a in range(max_7_bits + 1):\n",
    "    for b in range(max_7_bits + 1):\n",
    "        if a + b <= max_8_bits:  # Comprobar si la suma cabe en 8 bits\n",
    "            dataset.append((a, b))\n",
    "\n",
    "# Guardar los datos en un archivo con el formato solicitado\n",
    "file_path = 'D:/OneDrive - Universidad Complutense de Madrid (UCM)/Doctorado/Curriculum_Learning/Multidigit_Addition/real_test_dataset.txt'\n",
    "with open(file_path, \"w\") as file:\n",
    "    file.write(str(dataset))\n",
    "\n",
    "file_path"
   ]
  },
  {
   "cell_type": "code",
   "execution_count": 4,
   "id": "a6c2454d-15e9-41f4-b198-223480217813",
   "metadata": {},
   "outputs": [
    {
     "data": {
      "text/plain": [
       "'D:/OneDrive - Universidad Complutense de Madrid (UCM)/Doctorado/Curriculum_Learning/Multidigit_Addition/test_dataset.txt'"
      ]
     },
     "execution_count": 4,
     "metadata": {},
     "output_type": "execute_result"
    }
   ],
   "source": [
    "# Crear una lista para almacenar las parejas que cumplen la condición\n",
    "all_combinations = [(a, b) for a in range(100) for b in range(100)]\n",
    "\n",
    "# Guardar los datos en un archivo con el formato solicitado\n",
    "file_path = 'D:/OneDrive - Universidad Complutense de Madrid (UCM)/Doctorado/Curriculum_Learning/Multidigit_Addition/test_dataset.txt'\n",
    "with open(file_path, \"w\") as file:\n",
    "    file.write(str(all_combinations))\n",
    "\n",
    "file_path"
   ]
  },
  {
   "cell_type": "code",
   "execution_count": 3,
   "id": "af77210f-887b-4b8c-a4c8-ea957bc390e7",
   "metadata": {},
   "outputs": [
    {
     "data": {
      "text/plain": [
       "'D:/OneDrive - Universidad Complutense de Madrid (UCM)/Doctorado/Curriculum_Learning/Multidigit_Addition/combinations_small_problem_size.txt'"
      ]
     },
     "execution_count": 3,
     "metadata": {},
     "output_type": "execute_result"
    }
   ],
   "source": [
    "# Generar combinaciones donde al menos uno de los números está entre 0 y 9\n",
    "combinations_with_0_to_9 = [\n",
    "    (a, b) for a in range(100) for b in range(100) if (0 <= a <= 9 or 0 <= b <= 9)\n",
    "]\n",
    "\n",
    "# Generar combinaciones donde ambos números están entre 10 y 19\n",
    "#combinations_10_to_19 = [\n",
    "#    (a, b) for a in range(10, 20) for b in range(10, 20)\n",
    "#]\n",
    "\n",
    "# Combinar ambas listas\n",
    "all_combinations = combinations_with_0_to_9 #+ combinations_10_to_19\n",
    "\n",
    "# Guardar las combinaciones en un archivo\n",
    "file_path = 'D:/OneDrive - Universidad Complutense de Madrid (UCM)/Doctorado/Curriculum_Learning/Multidigit_Addition/combinations_small_problem_size.txt'\n",
    "with open(file_path, 'w') as file:\n",
    "    file.write(str(all_combinations))\n",
    "\n",
    "file_path"
   ]
  },
  {
   "cell_type": "code",
   "execution_count": 6,
   "id": "4d96dbc6-9f85-4605-b678-2ff2fca7c942",
   "metadata": {},
   "outputs": [
    {
     "data": {
      "text/plain": [
       "'D:/OneDrive - Universidad Complutense de Madrid (UCM)/Doctorado/Curriculum_Learning/Multidigit_Addition/real_test_dataset_small_problem_size.txt'"
      ]
     },
     "execution_count": 6,
     "metadata": {},
     "output_type": "execute_result"
    }
   ],
   "source": [
    "# Generar combinaciones donde al menos uno de los números está entre 0 y 9\n",
    "combinations_with_0_to_9 = [\n",
    "    (a, b) for a in range(128) for b in range(128) if (0 <= a <= 9 or 0 <= b <= 9)\n",
    "]\n",
    "\n",
    "# Generar combinaciones donde ambos números están entre 10 y 19\n",
    "combinations_10_to_19 = [\n",
    "    (a, b) for a in range(10, 20) for b in range(10, 20)\n",
    "]\n",
    "\n",
    "# Combinar ambas listas\n",
    "all_combinations = combinations_with_0_to_9 + combinations_10_to_19\n",
    "\n",
    "# Guardar las combinaciones en un archivo\n",
    "file_path = 'D:/OneDrive - Universidad Complutense de Madrid (UCM)/Doctorado/Curriculum_Learning/Multidigit_Addition/real_test_dataset_small_problem_size.txt'\n",
    "with open(file_path, 'w') as file:\n",
    "    file.write(str(all_combinations))\n",
    "\n",
    "file_path"
   ]
  },
  {
   "cell_type": "code",
   "execution_count": 2,
   "id": "7dc70572-4dd8-4cbd-b1d7-83ad20960025",
   "metadata": {},
   "outputs": [
    {
     "data": {
      "text/plain": [
       "'D:/OneDrive - Universidad Complutense de Madrid (UCM)/Doctorado/Curriculum_Learning/Multidigit_Addition/combinations_small_problem_size_binary.txt'"
      ]
     },
     "execution_count": 2,
     "metadata": {},
     "output_type": "execute_result"
    }
   ],
   "source": [
    "# Generar combinaciones donde al menos uno de los números está entre 0 y 9\n",
    "combinations_with_0_to_63 = [\n",
    "    (a, b) for a in range(100) for b in range(100) if (0 <= a <= 63 or 0 <= b <= 63)\n",
    "]\n",
    "\n",
    "# Generar combinaciones donde ambos números están entre 10 y 19\n",
    "#combinations_10_to_19 = [\n",
    "#    (a, b) for a in range(10, 20) for b in range(10, 20)\n",
    "#]\n",
    "\n",
    "# Combinar ambas listas\n",
    "all_combinations = combinations_with_0_to_63 #+ combinations_10_to_19\n",
    "\n",
    "# Guardar las combinaciones en un archivo\n",
    "file_path = 'D:/OneDrive - Universidad Complutense de Madrid (UCM)/Doctorado/Curriculum_Learning/Multidigit_Addition/combinations_small_problem_size_binary.txt'\n",
    "with open(file_path, 'w') as file:\n",
    "    file.write(str(all_combinations))\n",
    "\n",
    "file_path"
   ]
  },
  {
   "cell_type": "code",
   "execution_count": 7,
   "id": "20df032a-d99a-41c2-9c0a-53362fb08081",
   "metadata": {},
   "outputs": [
    {
     "data": {
      "text/plain": [
       "'D:/OneDrive - Universidad Complutense de Madrid (UCM)/Doctorado/Curriculum_Learning/Multidigit_Addition/real_test_dataset_small_problem_size_binary.txt'"
      ]
     },
     "execution_count": 7,
     "metadata": {},
     "output_type": "execute_result"
    }
   ],
   "source": [
    "# Generar combinaciones donde al menos uno de los números está entre 0 y 9\n",
    "combinations_with_0_to_63 = [\n",
    "    (a, b) for a in range(128) for b in range(128) if (0 <= a <= 63 or 0 <= b <= 63)\n",
    "]\n",
    "\n",
    "# Generar combinaciones donde ambos números están entre 10 y 19\n",
    "#combinations_10_to_19 = [\n",
    "#    (a, b) for a in range(10, 20) for b in range(10, 20)\n",
    "#]\n",
    "\n",
    "# Combinar ambas listas\n",
    "all_combinations = combinations_with_0_to_63 #+ combinations_10_to_19\n",
    "\n",
    "# Guardar las combinaciones en un archivo\n",
    "file_path = 'D:/OneDrive - Universidad Complutense de Madrid (UCM)/Doctorado/Curriculum_Learning/Multidigit_Addition/real_test_dataset_small_problem_size_binary.txt'\n",
    "with open(file_path, 'w') as file:\n",
    "    file.write(str(all_combinations))\n",
    "\n",
    "file_path"
   ]
  },
  {
   "cell_type": "code",
   "execution_count": null,
   "id": "2b091d0e-dea2-4476-b59c-7720e0eb83b0",
   "metadata": {},
   "outputs": [],
   "source": []
  }
 ],
 "metadata": {
  "kernelspec": {
   "display_name": "Python 3 (ipykernel)",
   "language": "python",
   "name": "python3"
  },
  "language_info": {
   "codemirror_mode": {
    "name": "ipython",
    "version": 3
   },
   "file_extension": ".py",
   "mimetype": "text/x-python",
   "name": "python",
   "nbconvert_exporter": "python",
   "pygments_lexer": "ipython3",
   "version": "3.11.0"
  }
 },
 "nbformat": 4,
 "nbformat_minor": 5
}
