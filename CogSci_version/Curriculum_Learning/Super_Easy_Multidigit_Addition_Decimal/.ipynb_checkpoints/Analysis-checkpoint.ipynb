{
 "cells": [
  {
   "cell_type": "code",
   "execution_count": 1,
   "id": "b70eecdc-fa71-44b4-af34-be0a8a0a7b5f",
   "metadata": {},
   "outputs": [],
   "source": [
    "import pandas as pd\n",
    "import matplotlib.pyplot as plt\n",
    "plt.rcParams['mathtext.fontset'] = 'stix'\n",
    "plt.rcParams['font.family'] = 'STIXGeneral'\n",
    "import os\n",
    "import re\n",
    "from glob import glob\n",
    "import numpy as np"
   ]
  },
  {
   "cell_type": "code",
   "execution_count": 3,
   "id": "0423fc16-37cd-43a0-91a4-a14b52aaa89a",
   "metadata": {},
   "outputs": [
    {
     "name": "stdout",
     "output_type": "stream",
     "text": [
      "File all_results-AP_0.1.csv saved.\n",
      "File all_results-AP_0.2.csv saved.\n",
      "File all_results-AP_0.3.csv saved.\n",
      "File all_results-AP_0.5.csv saved.\n",
      "File all_results-AP_0.7.csv saved.\n",
      "File all_results-AP_1.csv saved.\n",
      "File all_results-AP_1.5.csv saved.\n",
      "File all_results-AP_2.csv saved.\n",
      "File all_results-AP_2.5.csv saved.\n",
      "File all_results-AP_3.csv saved.\n",
      "File all_results-AP_5.csv saved.\n",
      "File all_results-AP_7.5.csv saved.\n",
      "File all_results-AP_10.csv saved.\n"
     ]
    }
   ],
   "source": [
    "folder = 'D:/OneDrive - Universidad Complutense de Madrid (UCM)/Doctorado/Curriculum_Learning/Easy_Multidigit_Addition_Decimal/'\n",
    "folder_specific = f'{folder}v1-Balanced_Frequencies/'\n",
    "\n",
    "epsilons = [0.1, 0.2, 0.3, 0.5, 0.7,\n",
    "            1, 1.5,\n",
    "            2, 2.5,\n",
    "            3,\n",
    "            5, \n",
    "            7.5,\n",
    "            10\n",
    "           ]\n",
    "\n",
    "#epsilons_2 = [0.1, 0.2, 0.3, 0.4, 0.5, 0.6, 0.7, 0.8, 0.9,\n",
    "#            1, 1.2, 1.5, 1.7,\n",
    "#            2, 2.5,\n",
    "#            3, 3.5,\n",
    "#            4, 4.5,\n",
    "#            5, 5.5,\n",
    "#            6, 6.5,\n",
    "#            7, 7.5,\n",
    "#            8, 8.5,\n",
    "#            9, 9.5,\n",
    "#            10\n",
    "#           ]\n",
    "\n",
    "for epsilon in epsilons:\n",
    "    root_folder = f'{folder_specific}Results_models/AP_{epsilon}'\n",
    "    \n",
    "    output_dir = f'{folder_specific}Analyzed_data'\n",
    "    \n",
    "    model_pattern = r'\\d{4}_\\d{2}_\\d{2}_\\d{2}_\\d{2}_\\d{2}'\n",
    "    correct_pattern_test = r'Correct predictions test: (\\d+)'\n",
    "    correct_pattern = r'Correct predictions: (\\d+),'\n",
    "    loss_pattern = r'Loss: ([\\d\\.]+),'\n",
    "    \n",
    "    all_data = []\n",
    "    \n",
    "    for file_path in glob(os.path.join(root_folder, '**', '*.txt'), recursive=True):\n",
    "        with open(file_path, 'r') as file:\n",
    "            lines = file.readlines()\n",
    "        file_name = os.path.basename(file_path)\n",
    "        model_match = re.search(model_pattern, file_name)\n",
    "        if model_match:\n",
    "            current_model = model_match.group(0)\n",
    "                \n",
    "        for line in lines:       \n",
    "            correct_match_test = re.search(correct_pattern_test, line)\n",
    "            \n",
    "            if correct_match_test:\n",
    "                current_predictions_test = int(correct_match_test.group(1))\n",
    "    \n",
    "            correct_match = re.search(correct_pattern, line)\n",
    "            if correct_match:\n",
    "                current_predictions = int(correct_match.group(1))        \n",
    "            \n",
    "            loss_match = re.search(loss_pattern, line)\n",
    "            if loss_match:\n",
    "                current_loss = float(loss_match.group(1))\n",
    "                current_predictions_train = current_predictions - current_predictions_test\n",
    "                all_data.append({\n",
    "                    'model': current_model,\n",
    "                    'loss': current_loss,\n",
    "                    'correct_predictions_train': current_predictions_train,\n",
    "                    'correct_predictions_test': current_predictions_test\n",
    "                })\n",
    "    \n",
    "    df_all_stages = pd.DataFrame(all_data)\n",
    "    output_file = f'{output_dir}/all_results-AP_{epsilon}.csv'\n",
    "    print(f'File all_results-AP_{epsilon}.csv saved.')\n",
    "    \n",
    "    os.makedirs(output_dir, exist_ok=True)\n",
    "    df_all_stages.to_csv(output_file, sep=';', decimal=',', index=False)\n",
    "    \n",
    "    output_file"
   ]
  },
  {
   "cell_type": "code",
   "execution_count": 38,
   "id": "aabac278-2ba0-41df-915d-553cd8205436",
   "metadata": {},
   "outputs": [
    {
     "name": "stdout",
     "output_type": "stream",
     "text": [
      "Done\n",
      "Done\n",
      "Done\n"
     ]
    }
   ],
   "source": [
    "epsilon = '10'\n",
    "variables = ['loss','correct_predictions_train','correct_predictions_test']\n",
    "\n",
    "for variable in variables:\n",
    "    df = pd.read_csv(f'D:/OneDrive - Universidad Complutense de Madrid (UCM)/Doctorado/Curriculum_Learning/Multidigit_Addition_Decimal/SAVE_Fast_Analysis/Analyzed_data/all_results-AP_{epsilon}.csv', delimiter=';', decimal=',')\n",
    "    \n",
    "    models = df['model'].unique()\n",
    "    \n",
    "    for model in models:\n",
    "        # Filtrar los datos para el modelo y etapa actuales\n",
    "            filtered_df = df[(df['model'] == model)]\n",
    "            # Si no hay datos para esta combinación de modelo, continuar con el siguiente\n",
    "            if filtered_df.empty:\n",
    "                print('Oh oh, continue :(')\n",
    "                continue\n",
    "            \n",
    "            output_dir = f'D:/OneDrive - Universidad Complutense de Madrid (UCM)/Doctorado/Curriculum_Learning/Multidigit_Addition_Decimal/SAVE_Fast_Analysis/Visual_results/AP_{epsilon}/{variable}'\n",
    "                    \n",
    "            os.makedirs(output_dir, exist_ok=True)\n",
    "            \n",
    "            # Configurar la figura\n",
    "            plt.figure()\n",
    "            \n",
    "            # Representar la evolución de 'loss'\n",
    "            plt.plot(range(1, len(filtered_df) + 1), filtered_df[variable], marker='o')\n",
    "            \n",
    "            # Añadir título y etiquetas\n",
    "            plt.title(f'Evolution of {variable} - Model: {model}')\n",
    "            plt.xlabel('Training')\n",
    "            plt.ylabel(variable)\n",
    "            \n",
    "            # Guardar la gráfica en la carpeta especificada\n",
    "            output_path = os.path.join(output_dir, f'{variable}_{model}.png')\n",
    "            plt.savefig(output_path)\n",
    "            \n",
    "            # Cerrar la figura para liberar memoria\n",
    "            plt.close()\n",
    "    \n",
    "    print('Done')"
   ]
  },
  {
   "cell_type": "code",
   "execution_count": null,
   "id": "02c644d1-9975-4859-828c-37e3e90cf83a",
   "metadata": {},
   "outputs": [],
   "source": []
  },
  {
   "cell_type": "code",
   "execution_count": null,
   "id": "97229194-230d-45a8-90a6-5746e34abc66",
   "metadata": {},
   "outputs": [],
   "source": []
  },
  {
   "cell_type": "code",
   "execution_count": null,
   "id": "394f2b34-e4d5-4681-9d29-86e569118eaf",
   "metadata": {},
   "outputs": [],
   "source": []
  },
  {
   "cell_type": "code",
   "execution_count": null,
   "id": "8461bd3b-5b43-4059-8279-a3e5186afc46",
   "metadata": {},
   "outputs": [],
   "source": []
  },
  {
   "cell_type": "code",
   "execution_count": null,
   "id": "bc10d2f5-19a0-49cc-98f3-bab9bc25bf96",
   "metadata": {},
   "outputs": [],
   "source": []
  },
  {
   "cell_type": "code",
   "execution_count": 139,
   "id": "751a3a47-04c9-40a7-b857-be0623434925",
   "metadata": {},
   "outputs": [
    {
     "data": {
      "text/plain": [
       "<Figure size 600x400 with 0 Axes>"
      ]
     },
     "metadata": {},
     "output_type": "display_data"
    },
    {
     "data": {
      "image/png": "[encoded data removed]",
      "text/plain": [
       "<Figure size 600x400 with 1 Axes>"
      ]
     },
     "metadata": {},
     "output_type": "display_data"
    }
   ],
   "source": [
    "type_training = 'Stages'\n",
    "name = 'AP_0.1_0.1'\n",
    "model = '2024_11_08_00_23_49'\n",
    "stage = 5\n",
    "\n",
    "df = pd.read_csv(f'D:/OneDrive - Universidad Complutense de Madrid (UCM)/Doctorado/Curriculum_Learning/Analyzed_data/all_Easy_examples_{type_training}_results_{name}.csv', delimiter=';', decimal=',')\n",
    "\n",
    "filtered_df = df[(df['model'] == model) & (df['stage'] == stage)]\n",
    "\n",
    "# Extender los valores de correct_predictions hasta x = 250\n",
    "correct_predictions = filtered_df['correct_predictions'].tolist()\n",
    "if len(correct_predictions) < 250:\n",
    "    last_value = correct_predictions[-1]  # Último valor disponible\n",
    "    correct_predictions.extend([last_value] * (250 - len(correct_predictions)))  # Rellenar con el último valor\n",
    "\n",
    "# Graficar\n",
    "plt.figure(figsize=(6, 4))\n",
    "def get_color(value):\n",
    "    if value <= 100:\n",
    "        return (233/255, 113/255, 50/255)  # Color para 0-100\n",
    "    elif value <= 200:\n",
    "        return (192/255, 0/255, 0/255)  # Color para 100-200\n",
    "    else:\n",
    "        return (22/255, 62/255, 100/255)  # Color para 200-250\n",
    "\n",
    "# Graficar\n",
    "plt.figure(figsize=(6, 4))\n",
    "for i in range(1, 250):\n",
    "    color = get_color(i)\n",
    "    plt.plot([i-1, i], [correct_predictions[i-1], correct_predictions[i]], color=color, marker='o', markersize=5)\n",
    "\n",
    "#plt.xlabel('Training step', fontsize=22)\n",
    "#plt.ylabel('Correct predictions', fontsize=22)\n",
    "plt.yticks([])  # Eliminar yticks\n",
    "plt.ylabel('')   # Eliminar ylabel\n",
    "plt.xlabel('')\n",
    "plt.xticks(np.arange(0, 251, step=50), [])\n",
    "plt.ylim(0, 105)\n",
    "plt.xlim(0, 250)\n",
    "plt.xticks(fontsize=20)\n",
    "plt.yticks(fontsize=20)\n",
    "\n",
    "\n",
    "plt.show()"
   ]
  },
  {
   "cell_type": "code",
   "execution_count": null,
   "id": "de596cd5-7a85-41f6-b2eb-29643f49110e",
   "metadata": {},
   "outputs": [],
   "source": []
  }
 ],
 "metadata": {
  "kernelspec": {
   "display_name": "Python 3 (ipykernel)",
   "language": "python",
   "name": "python3"
  },
  "language_info": {
   "codemirror_mode": {
    "name": "ipython",
    "version": 3
   },
   "file_extension": ".py",
   "mimetype": "text/x-python",
   "name": "python",
   "nbconvert_exporter": "python",
   "pygments_lexer": "ipython3",
   "version": "3.11.0"
  }
 },
 "nbformat": 4,
 "nbformat_minor": 5
}
