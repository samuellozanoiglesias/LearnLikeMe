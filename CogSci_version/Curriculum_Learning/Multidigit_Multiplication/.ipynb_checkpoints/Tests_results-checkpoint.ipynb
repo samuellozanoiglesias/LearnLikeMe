{
 "cells": [
  {
   "cell_type": "code",
   "execution_count": 3,
   "id": "1ab1a0de-ed3b-483f-a0ce-1469776e567d",
   "metadata": {},
   "outputs": [],
   "source": [
    "import os\n",
    "import re\n",
    "import pandas as pd"
   ]
  },
  {
   "cell_type": "code",
   "execution_count": 17,
   "id": "084b1f23-863d-4bcd-b7be-5af17714db84",
   "metadata": {},
   "outputs": [
    {
     "name": "stdout",
     "output_type": "stream",
     "text": [
      "File 'tests_results.xlsx' created.\n"
     ]
    }
   ],
   "source": [
    "folder_path = 'D:/OneDrive - Universidad Complutense de Madrid (UCM)/Doctorado/Curriculum_Learning/Tests/'\n",
    "analyzed_data_folder = 'D:/OneDrive - Universidad Complutense de Madrid (UCM)/Doctorado/Curriculum_Learning/Analyzed_Data/'\n",
    "\n",
    "model_regex = r\"Loaded trainable_model_stage_\\d+-(\\d{4}_\\d{2}_\\d{2}_\\d{2}_\\d{2}_\\d{2}).pkl\"\n",
    "type_file_regex = r\"tests-(\\w+)-(AP_0\\.1_0\\.1|AP_0\\.05_0\\.05|Generated_model)\"\n",
    "first_attempt_regex = r\"STAGE (\\d+): Out of 100, (\\d+) were predicted correctly in the current model, with (\\d+) mistakes in examples with carryover.\"\n",
    "second_attempt_regex = r\"STAGE (\\d+): Out of 144, (\\d+) were predicted correctly in the current model, with (\\d+) mistakes in examples with carryover.\"\n",
    "\n",
    "data = []\n",
    "\n",
    "for filename in os.listdir(folder_path):\n",
    "    if filename.endswith('.txt'):\n",
    "        match = re.search(type_file_regex, filename)\n",
    "        \n",
    "        if match:\n",
    "            type_training = match.group(1)\n",
    "            file_name = match.group(2)\n",
    "            \n",
    "            stage = None\n",
    "            first_attempt = None\n",
    "            second_attempt = None\n",
    "\n",
    "            with open(os.path.join(folder_path, filename), 'r') as file:\n",
    "                for line in file:\n",
    "                    model_match = re.search(model_regex, line)\n",
    "                    \n",
    "                    if model_match:\n",
    "                        current_time = model_match.group(1)\n",
    "                        continue\n",
    "                        \n",
    "                    first_match = re.search(first_attempt_regex, line)\n",
    "                    if first_match:\n",
    "                        stage = int(first_match.group(1))\n",
    "                        first_attempt = int(first_match.group(2))\n",
    "                        first_attempt_mistakes = int(first_match.group(3))\n",
    "                        continue  \n",
    "                    \n",
    "                    second_match = re.search(second_attempt_regex, line)\n",
    "                    if second_match and stage is not None:\n",
    "                        second_attempt = int(second_match.group(2))\n",
    "                        second_attempt_mistakes = int(second_match.group(3))\n",
    "\n",
    "                        analyzed_file_path = f\"{analyzed_data_folder}all_{type_training}_results_{file_name}.csv\"\n",
    "                        if os.path.exists(analyzed_file_path):\n",
    "                            analyzed_df = pd.read_csv(analyzed_file_path, delimiter=';', decimal=',')\n",
    "                            \n",
    "                            stage_data = analyzed_df[(analyzed_df['stage'] == stage) & (analyzed_df['model'] == current_time)]\n",
    "                            total_trainings = len(stage_data)\n",
    "                        else:\n",
    "                            total_trainings = 0\n",
    "                            \n",
    "                        data.append([\n",
    "                            model, type_training, file_name, stage, total_trainings, first_attempt, first_attempt_mistakes, \n",
    "                            second_attempt, second_attempt_mistakes\n",
    "                        ])\n",
    "\n",
    "                        # Resetear las variables para la siguiente etapa\n",
    "                        stage = None\n",
    "                        first_attempt = None\n",
    "                        second_attempt = None\n",
    "\n",
    "df = pd.DataFrame(data, columns=[\n",
    "    'current_time', 'type_training', 'file_name', 'stage', 'total_trainings', 'out_of_100', 'carry_over_mistakes_out_of_13', \n",
    "    'out_of_144', 'carry_over_mistakes_out_of_31'\n",
    "])\n",
    "output_path = r'D:/OneDrive - Universidad Complutense de Madrid (UCM)/Doctorado/Curriculum_Learning/tests_results.xlsx'\n",
    "df.to_excel(output_path, index=False)\n",
    "print(\"File 'tests_results.xlsx' created.\")"
   ]
  },
  {
   "cell_type": "code",
   "execution_count": null,
   "id": "a7586783-a21e-4177-b607-d48ecffc855d",
   "metadata": {},
   "outputs": [],
   "source": []
  }
 ],
 "metadata": {
  "kernelspec": {
   "display_name": "Python 3 (ipykernel)",
   "language": "python",
   "name": "python3"
  },
  "language_info": {
   "codemirror_mode": {
    "name": "ipython",
    "version": 3
   },
   "file_extension": ".py",
   "mimetype": "text/x-python",
   "name": "python",
   "nbconvert_exporter": "python",
   "pygments_lexer": "ipython3",
   "version": "3.11.0"
  }
 },
 "nbformat": 4,
 "nbformat_minor": 5
}
