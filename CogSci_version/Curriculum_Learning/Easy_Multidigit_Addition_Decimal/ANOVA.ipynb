{
 "cells": [
  {
   "cell_type": "code",
   "execution_count": 1,
   "id": "33eb3508-b956-42b9-9230-7b2f1345b0ff",
   "metadata": {},
   "outputs": [],
   "source": [
    "import os\n",
    "import re\n",
    "import pandas as pd"
   ]
  },
  {
   "cell_type": "code",
   "execution_count": 7,
   "id": "fb6602b0-a562-47b4-babb-5d8e37f76c1c",
   "metadata": {},
   "outputs": [],
   "source": [
    "# Ruta principal donde están las carpetas de los modelos\n",
    "main_folder = 'D:/OneDrive - Universidad Complutense de Madrid (UCM)/Doctorado/Curriculum_Learning/Easy_Multidigit_Addition_Decimal/v4-Balanced_Frequencies/'\n",
    "\n",
    "specific_folder = f'{main_folder}Results_models/'"
   ]
  },
  {
   "cell_type": "code",
   "execution_count": 8,
   "id": "59d7d490-9534-4cbc-a837-c19cc3824015",
   "metadata": {},
   "outputs": [
    {
     "name": "stdout",
     "output_type": "stream",
     "text": [
      "Los resultados se han guardado en D:/OneDrive - Universidad Complutense de Madrid (UCM)/Doctorado/Curriculum_Learning/Easy_Multidigit_Addition_Decimal/v4-Balanced_Frequencies/ANOVA_results.xlsx\n"
     ]
    }
   ],
   "source": [
    "# Expresión regular para buscar el formato de la línea relevante\n",
    "pattern = re.compile(r\"Epoch 595, Loss: ([\\d.]+), CP: (\\d+), CPT: (\\d+), CPSNCT: (\\d+), CPSCT: (\\d+), CPLNCT: (\\d+), CPLCT: (\\d+)\")\n",
    "\n",
    "# Lista para almacenar los datos que se extraerán\n",
    "data = []\n",
    "\n",
    "# Recorrer todas las carpetas en la ruta principal\n",
    "for folder in os.listdir(specific_folder):\n",
    "    folder_path = os.path.join(specific_folder, folder)\n",
    "    \n",
    "    if os.path.isdir(folder_path):\n",
    "        # Verificar si la carpeta sigue el formato AP_{epsilon}\n",
    "        if folder.startswith(\"AP_\"):\n",
    "            epsilon = folder.split(\"_\")[1]  # Extraer el epsilon\n",
    "            \n",
    "            # Recorrer los archivos en la carpeta\n",
    "            for file in os.listdir(folder_path):\n",
    "                if file.endswith('.txt'):\n",
    "                    file_path = os.path.join(folder_path, file)\n",
    "                    \n",
    "                    # Leer el archivo y buscar la línea de interés\n",
    "                    with open(file_path, 'r') as f:\n",
    "                        for line in f:\n",
    "                            match = pattern.search(line)\n",
    "                            if match:\n",
    "                                loss = match.group(1)\n",
    "                                correct_predictions = match.group(2)\n",
    "                                correct_predictions_test = match.group(3)\n",
    "                                correct_predictions_small_no_carry_test = match.group(4)\n",
    "                                correct_predictions_small_carry_test = match.group(5)\n",
    "                                correct_predictions_large_no_carry_test = match.group(6)\n",
    "                                correct_predictions_large_carry_test = match.group(7)\n",
    "                                \n",
    "                                # Añadir los resultados a la lista\n",
    "                                data.append([epsilon, file[:19], loss, correct_predictions, correct_predictions_test, \n",
    "                                             correct_predictions_small_no_carry_test, correct_predictions_small_carry_test,\n",
    "                                             correct_predictions_large_no_carry_test, correct_predictions_large_carry_test])\n",
    "\n",
    "# Crear un DataFrame con los resultados\n",
    "df = pd.DataFrame(data, columns=[\"epsilon\", \"timestamp\", \"loss\", \"correct_predictions\", \"correct_predictions_test\", \n",
    "                                 \"correct_predictions_small_no_carry_test\", \"correct_predictions_small_carry_test\", \n",
    "                                 \"correct_predictions_large_no_carry_test\", \"correct_predictions_large_carry_test\"])\n",
    "\n",
    "# Guardar los resultados en un archivo Excel\n",
    "df.to_excel(f'{main_folder}ANOVA_results.xlsx', index=False)\n",
    "\n",
    "print(f\"Los resultados se han guardado en {main_folder}ANOVA_results.xlsx\")"
   ]
  },
  {
   "cell_type": "code",
   "execution_count": null,
   "id": "a2fab880-b80a-4a92-8143-3fc245017075",
   "metadata": {},
   "outputs": [],
   "source": []
  }
 ],
 "metadata": {
  "kernelspec": {
   "display_name": "Python 3 (ipykernel)",
   "language": "python",
   "name": "python3"
  },
  "language_info": {
   "codemirror_mode": {
    "name": "ipython",
    "version": 3
   },
   "file_extension": ".py",
   "mimetype": "text/x-python",
   "name": "python",
   "nbconvert_exporter": "python",
   "pygments_lexer": "ipython3",
   "version": "3.11.0"
  }
 },
 "nbformat": 4,
 "nbformat_minor": 5
}
