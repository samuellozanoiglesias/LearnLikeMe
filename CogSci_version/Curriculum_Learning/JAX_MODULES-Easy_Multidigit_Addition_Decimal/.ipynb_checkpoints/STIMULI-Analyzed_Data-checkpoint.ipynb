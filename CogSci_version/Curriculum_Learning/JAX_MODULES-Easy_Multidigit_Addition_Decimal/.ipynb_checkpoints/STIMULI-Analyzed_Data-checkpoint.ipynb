{
 "cells": [
  {
   "cell_type": "code",
   "execution_count": 1,
   "id": "8dcfaa40-90dc-42d4-a3a7-4a4d4b71c554",
   "metadata": {},
   "outputs": [],
   "source": [
    "import pandas as pd\n",
    "import matplotlib.pyplot as plt\n",
    "plt.rcParams['mathtext.fontset'] = 'stix'\n",
    "plt.rcParams['font.family'] = 'STIXGeneral'\n",
    "import os\n",
    "import re\n",
    "from glob import glob\n",
    "import numpy as np"
   ]
  },
  {
   "cell_type": "code",
   "execution_count": 7,
   "id": "0afae7e3-ada4-4647-9279-337536455ef6",
   "metadata": {},
   "outputs": [
    {
     "name": "stdout",
     "output_type": "stream",
     "text": [
      "File all_results-AP_0.2.csv saved.\n"
     ]
    }
   ],
   "source": [
    "folder = 'D:/OneDrive - Universidad Complutense de Madrid (UCM)/Doctorado/Curriculum_Learning/JAX_MODULES-Easy_Multidigit_Addition_Decimal/'\n",
    "folder_specific = f'{folder}v1-Balanced_Frequencies/NO_MODULES/'\n",
    "\n",
    "epsilons = [0.2]\n",
    "\n",
    "for epsilon in epsilons:\n",
    "    root_folder = f'{folder_specific}Results_models/AP_{epsilon}'\n",
    "    \n",
    "    output_dir = f'{folder_specific}Analyzed_data'\n",
    "    \n",
    "    model_pattern = r'\\d{4}_\\d{2}_\\d{2}_\\d{2}_\\d{2}_\\d{2}'\n",
    "    epoch_pattern = r'Epoch (\\d+),'\n",
    "    correct_pattern_test = r'Correct predictions test: (\\d+)'\n",
    "    correct_pattern = r'Correct predictions: (\\d+),'\n",
    "    loss_pattern = r'Loss: ([\\d\\.]+),'\n",
    "    \n",
    "    all_data = []\n",
    "    \n",
    "    for file_path in glob(os.path.join(root_folder, '**', '*.txt'), recursive=True):\n",
    "        with open(file_path, 'r') as file:\n",
    "            lines = file.readlines()\n",
    "        file_name = os.path.basename(file_path)\n",
    "        model_match = re.search(model_pattern, file_name)\n",
    "        if model_match:\n",
    "            current_model = model_match.group(0)\n",
    "                \n",
    "        for line in lines:       \n",
    "            correct_match_test = re.search(correct_pattern_test, line)\n",
    "            \n",
    "            if correct_match_test:\n",
    "                current_predictions_test = int(correct_match_test.group(1))\n",
    "    \n",
    "            correct_match = re.search(correct_pattern, line)\n",
    "            if correct_match:\n",
    "                current_predictions = int(correct_match.group(1))        \n",
    "            \n",
    "            loss_match = re.search(loss_pattern, line)\n",
    "            if loss_match:\n",
    "                current_loss = float(loss_match.group(1))\n",
    "\n",
    "            epoch_match = re.search(epoch_pattern, line)\n",
    "            if epoch_match:\n",
    "                current_epoch = float(epoch_match.group(1))\n",
    "                all_data.append({\n",
    "                    'model': current_model,\n",
    "                    'epoch': current_epoch,\n",
    "                    'loss': current_loss,\n",
    "                    'correct_predictions': current_predictions,\n",
    "                    'correct_predictions_test': current_predictions_test\n",
    "                })\n",
    "    \n",
    "    df_all_stages = pd.DataFrame(all_data)\n",
    "    output_file = f'{output_dir}/all_results-AP_{epsilon}.csv'\n",
    "    print(f'File all_results-AP_{epsilon}.csv saved.')\n",
    "    \n",
    "    os.makedirs(output_dir, exist_ok=True)\n",
    "    df_all_stages.to_csv(output_file, sep=';', decimal=',', index=False)\n",
    "    \n",
    "    output_file"
   ]
  },
  {
   "cell_type": "code",
   "execution_count": 8,
   "id": "3f45caf8-b408-4d6f-b836-77b81c98b564",
   "metadata": {},
   "outputs": [
    {
     "ename": "KeyError",
     "evalue": "'epoch'",
     "output_type": "error",
     "traceback": [
      "\u001b[1;31m---------------------------------------------------------------------------\u001b[0m",
      "\u001b[1;31mKeyError\u001b[0m                                  Traceback (most recent call last)",
      "File \u001b[1;32m~\\AppData\\Local\\Programs\\Python\\Python311\\Lib\\site-packages\\pandas\\core\\indexes\\base.py:3805\u001b[0m, in \u001b[0;36mIndex.get_loc\u001b[1;34m(self, key)\u001b[0m\n\u001b[0;32m   3804\u001b[0m \u001b[38;5;28;01mtry\u001b[39;00m:\n\u001b[1;32m-> 3805\u001b[0m     \u001b[38;5;28;01mreturn\u001b[39;00m \u001b[38;5;28;43mself\u001b[39;49m\u001b[38;5;241;43m.\u001b[39;49m\u001b[43m_engine\u001b[49m\u001b[38;5;241;43m.\u001b[39;49m\u001b[43mget_loc\u001b[49m\u001b[43m(\u001b[49m\u001b[43mcasted_key\u001b[49m\u001b[43m)\u001b[49m\n\u001b[0;32m   3806\u001b[0m \u001b[38;5;28;01mexcept\u001b[39;00m \u001b[38;5;167;01mKeyError\u001b[39;00m \u001b[38;5;28;01mas\u001b[39;00m err:\n",
      "File \u001b[1;32mindex.pyx:167\u001b[0m, in \u001b[0;36mpandas._libs.index.IndexEngine.get_loc\u001b[1;34m()\u001b[0m\n",
      "File \u001b[1;32mindex.pyx:196\u001b[0m, in \u001b[0;36mpandas._libs.index.IndexEngine.get_loc\u001b[1;34m()\u001b[0m\n",
      "File \u001b[1;32mpandas\\\\_libs\\\\hashtable_class_helper.pxi:7081\u001b[0m, in \u001b[0;36mpandas._libs.hashtable.PyObjectHashTable.get_item\u001b[1;34m()\u001b[0m\n",
      "File \u001b[1;32mpandas\\\\_libs\\\\hashtable_class_helper.pxi:7089\u001b[0m, in \u001b[0;36mpandas._libs.hashtable.PyObjectHashTable.get_item\u001b[1;34m()\u001b[0m\n",
      "\u001b[1;31mKeyError\u001b[0m: 'epoch'",
      "\nThe above exception was the direct cause of the following exception:\n",
      "\u001b[1;31mKeyError\u001b[0m                                  Traceback (most recent call last)",
      "Cell \u001b[1;32mIn[8], line 10\u001b[0m\n\u001b[0;32m      7\u001b[0m df \u001b[38;5;241m=\u001b[39m pd\u001b[38;5;241m.\u001b[39mread_csv(input_file, sep\u001b[38;5;241m=\u001b[39m\u001b[38;5;124m'\u001b[39m\u001b[38;5;124m;\u001b[39m\u001b[38;5;124m'\u001b[39m, decimal\u001b[38;5;241m=\u001b[39m\u001b[38;5;124m'\u001b[39m\u001b[38;5;124m,\u001b[39m\u001b[38;5;124m'\u001b[39m)\n\u001b[0;32m      9\u001b[0m numerical_df \u001b[38;5;241m=\u001b[39m df\u001b[38;5;241m.\u001b[39mselect_dtypes(include\u001b[38;5;241m=\u001b[39m[np\u001b[38;5;241m.\u001b[39mnumber])\n\u001b[1;32m---> 10\u001b[0m grouped \u001b[38;5;241m=\u001b[39m numerical_df\u001b[38;5;241m.\u001b[39mgroupby(\u001b[43mdf\u001b[49m\u001b[43m[\u001b[49m\u001b[38;5;124;43m'\u001b[39;49m\u001b[38;5;124;43mepoch\u001b[39;49m\u001b[38;5;124;43m'\u001b[39;49m\u001b[43m]\u001b[49m)\u001b[38;5;241m.\u001b[39mmean()\u001b[38;5;66;03m#.reset_index()\u001b[39;00m\n\u001b[0;32m     12\u001b[0m grouped\u001b[38;5;241m.\u001b[39minsert(\u001b[38;5;241m0\u001b[39m, \u001b[38;5;124m'\u001b[39m\u001b[38;5;124mepsilon\u001b[39m\u001b[38;5;124m'\u001b[39m, epsilon)  \u001b[38;5;66;03m# Agregar la columna epsilon\u001b[39;00m\n\u001b[0;32m     13\u001b[0m consolidated_data\u001b[38;5;241m.\u001b[39mappend(grouped)\n",
      "File \u001b[1;32m~\\AppData\\Local\\Programs\\Python\\Python311\\Lib\\site-packages\\pandas\\core\\frame.py:4102\u001b[0m, in \u001b[0;36mDataFrame.__getitem__\u001b[1;34m(self, key)\u001b[0m\n\u001b[0;32m   4100\u001b[0m \u001b[38;5;28;01mif\u001b[39;00m \u001b[38;5;28mself\u001b[39m\u001b[38;5;241m.\u001b[39mcolumns\u001b[38;5;241m.\u001b[39mnlevels \u001b[38;5;241m>\u001b[39m \u001b[38;5;241m1\u001b[39m:\n\u001b[0;32m   4101\u001b[0m     \u001b[38;5;28;01mreturn\u001b[39;00m \u001b[38;5;28mself\u001b[39m\u001b[38;5;241m.\u001b[39m_getitem_multilevel(key)\n\u001b[1;32m-> 4102\u001b[0m indexer \u001b[38;5;241m=\u001b[39m \u001b[38;5;28;43mself\u001b[39;49m\u001b[38;5;241;43m.\u001b[39;49m\u001b[43mcolumns\u001b[49m\u001b[38;5;241;43m.\u001b[39;49m\u001b[43mget_loc\u001b[49m\u001b[43m(\u001b[49m\u001b[43mkey\u001b[49m\u001b[43m)\u001b[49m\n\u001b[0;32m   4103\u001b[0m \u001b[38;5;28;01mif\u001b[39;00m is_integer(indexer):\n\u001b[0;32m   4104\u001b[0m     indexer \u001b[38;5;241m=\u001b[39m [indexer]\n",
      "File \u001b[1;32m~\\AppData\\Local\\Programs\\Python\\Python311\\Lib\\site-packages\\pandas\\core\\indexes\\base.py:3812\u001b[0m, in \u001b[0;36mIndex.get_loc\u001b[1;34m(self, key)\u001b[0m\n\u001b[0;32m   3807\u001b[0m     \u001b[38;5;28;01mif\u001b[39;00m \u001b[38;5;28misinstance\u001b[39m(casted_key, \u001b[38;5;28mslice\u001b[39m) \u001b[38;5;129;01mor\u001b[39;00m (\n\u001b[0;32m   3808\u001b[0m         \u001b[38;5;28misinstance\u001b[39m(casted_key, abc\u001b[38;5;241m.\u001b[39mIterable)\n\u001b[0;32m   3809\u001b[0m         \u001b[38;5;129;01mand\u001b[39;00m \u001b[38;5;28many\u001b[39m(\u001b[38;5;28misinstance\u001b[39m(x, \u001b[38;5;28mslice\u001b[39m) \u001b[38;5;28;01mfor\u001b[39;00m x \u001b[38;5;129;01min\u001b[39;00m casted_key)\n\u001b[0;32m   3810\u001b[0m     ):\n\u001b[0;32m   3811\u001b[0m         \u001b[38;5;28;01mraise\u001b[39;00m InvalidIndexError(key)\n\u001b[1;32m-> 3812\u001b[0m     \u001b[38;5;28;01mraise\u001b[39;00m \u001b[38;5;167;01mKeyError\u001b[39;00m(key) \u001b[38;5;28;01mfrom\u001b[39;00m \u001b[38;5;21;01merr\u001b[39;00m\n\u001b[0;32m   3813\u001b[0m \u001b[38;5;28;01mexcept\u001b[39;00m \u001b[38;5;167;01mTypeError\u001b[39;00m:\n\u001b[0;32m   3814\u001b[0m     \u001b[38;5;66;03m# If we have a listlike key, _check_indexing_error will raise\u001b[39;00m\n\u001b[0;32m   3815\u001b[0m     \u001b[38;5;66;03m#  InvalidIndexError. Otherwise we fall through and re-raise\u001b[39;00m\n\u001b[0;32m   3816\u001b[0m     \u001b[38;5;66;03m#  the TypeError.\u001b[39;00m\n\u001b[0;32m   3817\u001b[0m     \u001b[38;5;28mself\u001b[39m\u001b[38;5;241m.\u001b[39m_check_indexing_error(key)\n",
      "\u001b[1;31mKeyError\u001b[0m: 'epoch'"
     ]
    }
   ],
   "source": [
    "consolidated_data = []\n",
    "\n",
    "for epsilon in epsilons:\n",
    "    input_file = f'{output_dir}/all_results-AP_{epsilon}.csv'\n",
    "    \n",
    "    if os.path.exists(input_file):\n",
    "        df = pd.read_csv(input_file, sep=';', decimal=',')\n",
    "\n",
    "        numerical_df = df.select_dtypes(include=[np.number])\n",
    "        grouped = numerical_df.groupby(df['epoch']).mean()#.reset_index()\n",
    "        \n",
    "        grouped.insert(0, 'epsilon', epsilon)  # Agregar la columna epsilon\n",
    "        consolidated_data.append(grouped)\n",
    "    else:\n",
    "        print(f'Archivo no encontrado: {input_file}')\n",
    "\n",
    "# Crear un DataFrame final consolidado\n",
    "final_df = pd.concat(consolidated_data, ignore_index=True)\n",
    "\n",
    "# Guardar como archivo Excel\n",
    "output_file = os.path.join(folder_specific, 'STIMULI_Analyzed_Data.xlsx')\n",
    "final_df.to_excel(output_file, index=False)\n",
    "print(f'Archivo guardado en: {output_file}')"
   ]
  },
  {
   "cell_type": "code",
   "execution_count": null,
   "id": "3b6cf81f-e970-4655-a30e-39ed4a72196a",
   "metadata": {},
   "outputs": [],
   "source": []
  }
 ],
 "metadata": {
  "kernelspec": {
   "display_name": "Python 3 (ipykernel)",
   "language": "python",
   "name": "python3"
  },
  "language_info": {
   "codemirror_mode": {
    "name": "ipython",
    "version": 3
   },
   "file_extension": ".py",
   "mimetype": "text/x-python",
   "name": "python",
   "nbconvert_exporter": "python",
   "pygments_lexer": "ipython3",
   "version": "3.11.0"
  }
 },
 "nbformat": 4,
 "nbformat_minor": 5
}
