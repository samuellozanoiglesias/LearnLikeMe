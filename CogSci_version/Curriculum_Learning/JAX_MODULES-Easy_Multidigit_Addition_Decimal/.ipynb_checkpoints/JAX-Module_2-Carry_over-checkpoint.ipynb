{
 "cells": [
  {
   "cell_type": "code",
   "execution_count": 1,
   "id": "e6675236-0245-4d91-a5c8-c30b9e87f9b0",
   "metadata": {},
   "outputs": [],
   "source": [
    "import jax\n",
    "import jax.numpy as jnp\n",
    "from jax import random\n",
    "from flax import linen as nn\n",
    "from flax.training import train_state\n",
    "from sklearn.model_selection import train_test_split\n",
    "from sklearn.preprocessing import OneHotEncoder\n",
    "import optax\n",
    "import pandas as pd\n",
    "import pickle\n",
    "import os\n",
    "import json"
   ]
  },
  {
   "cell_type": "code",
   "execution_count": 2,
   "id": "cfa3df95-b32c-46db-8f15-c638cad3d0ff",
   "metadata": {},
   "outputs": [],
   "source": [
    "folder = \"C:/OneDrive - Universidad Complutense de Madrid (UCM)/Doctorado/Curriculum_Learning/JAX_MODULES-Easy_Multidigit_Addition_Decimal/CARRY_MODULE/Parameters/\"\n",
    "epsilon = 0.2\n",
    "current_time = '2025_01_24_02_47_02'\n",
    "\n",
    "params_file_path = f'{folder}AP_{epsilon}/trainable_model_{current_time}.json'"
   ]
  },
  {
   "cell_type": "code",
   "execution_count": 3,
   "id": "a13a2e1a-8e15-48db-a3e0-14c2f7a40b4d",
   "metadata": {},
   "outputs": [],
   "source": [
    "# Función para cargar los parámetros iniciales desde el archivo\n",
    "def load_initial_params(file_path):\n",
    "    with open(file_path, 'r') as f:\n",
    "        loaded_params = json.load(f)\n",
    "    \n",
    "    # Convertir los valores de listas a arrays de JAX\n",
    "    def to_jnp_array(data):\n",
    "        if isinstance(data, dict):\n",
    "            return {key: to_jnp_array(value) for key, value in data.items()}\n",
    "        elif isinstance(data, list):\n",
    "            return jnp.array(data)\n",
    "        else:\n",
    "            return data\n",
    "\n",
    "    return to_jnp_array(loaded_params)"
   ]
  },
  {
   "cell_type": "code",
   "execution_count": 4,
   "id": "d5eff7d1-984f-4719-a990-cc4d31738baa",
   "metadata": {
    "scrolled": true
   },
   "outputs": [],
   "source": [
    "# Generar datos para el módulo de llevadas\n",
    "def generate_carry_data():\n",
    "    x_data = []\n",
    "    y_data = []\n",
    "    for a in range(10):  # Primer número\n",
    "        for b in range(10):  # Segundo número\n",
    "            x_data.append([a, b])  # Entrada\n",
    "            y_data.append(1 if (a + b) >= 10 else 0)\n",
    "    return jnp.array(x_data), jnp.array(y_data)\n",
    "\n",
    "# Generar datos\n",
    "x, y = generate_carry_data()\n",
    "\n",
    "# Convertir etiquetas a one-hot (y convertir a formato denso)\n",
    "encoder = OneHotEncoder(categories='auto')\n",
    "y_one_hot = encoder.fit_transform(y.reshape(-1, 1)).toarray()\n",
    "\n",
    "x_train, y_train = x, y_one_hot\n",
    "x_val, y_val = x, y_one_hot\n",
    "\n",
    "# Agregar una dimensión para 'timesteps'\n",
    "x_train = x_train[:, None, :]  # (batch, timesteps, features)\n",
    "x_val = x_val[:, None, :]"
   ]
  },
  {
   "cell_type": "code",
   "execution_count": 5,
   "id": "623bed0e-eabe-40a7-a02d-141dfb1aa020",
   "metadata": {},
   "outputs": [],
   "source": [
    "# Definir el modelo en Flax\n",
    "class carry_LSTMModel(nn.Module):\n",
    "    @nn.compact\n",
    "    def __call__(self, x):\n",
    "        lstm_1 = nn.LSTMCell(features=16)\n",
    "        dense = nn.Dense(2)\n",
    "\n",
    "        carry1 = lstm_1.initialize_carry(jax.random.PRNGKey(0), (x.shape[0],))  # Batch size\n",
    "\n",
    "        for t in range(x.shape[1]):  # Iterar sobre los pasos temporales\n",
    "            carry1, x_t = lstm_1(carry1, x[:, t])\n",
    "\n",
    "        hidden_state = carry1[0] \n",
    "        final_output = nn.softmax(dense(hidden_state))\n",
    "        return final_output"
   ]
  },
  {
   "cell_type": "code",
   "execution_count": 6,
   "id": "fa7a62e8-8ef6-44d1-b36d-c924b3d2366f",
   "metadata": {},
   "outputs": [],
   "source": [
    "# Inicializar modelo y estado de entrenamiento\n",
    "def create_train_state(rng, learning_rate):\n",
    "    model = carry_LSTMModel()\n",
    "    params = model.init(rng, jnp.ones((1, 1, 2)))[\"params\"]\n",
    "    tx = optax.sgd(learning_rate)\n",
    "    return train_state.TrainState.create(apply_fn=model.apply, params=params, tx=tx)\n",
    "    \n",
    "def load_train_state(rng, learning_rate, initial_params):\n",
    "    model = carry_LSTMModel()\n",
    "    tx = optax.sgd(learning_rate)\n",
    "    return train_state.TrainState.create(apply_fn=model.apply, params=initial_params, tx=tx)\n",
    "\n",
    "# Definir la función de pérdida\n",
    "def compute_loss(params, x, y):\n",
    "    logits = carry_LSTMModel().apply({\"params\": params}, x)\n",
    "    loss = optax.softmax_cross_entropy(logits, y).mean()\n",
    "    return loss\n",
    "\n",
    "# Definir la función de evaluación\n",
    "@jax.jit\n",
    "def evaluate(params, x, y):\n",
    "    logits = carry_LSTMModel().apply({\"params\": params}, x)\n",
    "    accuracy = jnp.mean(jnp.argmax(logits, axis=-1) == jnp.argmax(y, axis=-1))\n",
    "    return accuracy\n",
    "\n",
    "# Entrenamiento\n",
    "@jax.jit\n",
    "def train_step(state, x, y):\n",
    "    loss_fn = lambda params: compute_loss(params, x, y)\n",
    "    grads = jax.grad(loss_fn)(state.params)\n",
    "    state = state.apply_gradients(grads=grads)\n",
    "    return state"
   ]
  },
  {
   "cell_type": "code",
   "execution_count": 10,
   "id": "4f050fc4-f0f7-4b34-ad58-f53c505a4a71",
   "metadata": {},
   "outputs": [
    {
     "name": "stdout",
     "output_type": "stream",
     "text": [
      "Época 1, Precisión: 0.5400\n",
      "Época 1000, Precisión: 0.7500\n",
      "Época 2000, Precisión: 0.7600\n",
      "Época 3000, Precisión: 0.7900\n",
      "Época 4000, Precisión: 0.8300\n",
      "Época 5000, Precisión: 0.8500\n",
      "Época 6000, Precisión: 0.8700\n",
      "Época 7000, Precisión: 0.9100\n",
      "Época 8000, Precisión: 0.9300\n",
      "Época 9000, Precisión: 0.9400\n",
      "Época 10000, Precisión: 0.9400\n",
      "Época 11000, Precisión: 0.9600\n",
      "Época 12000, Precisión: 0.9800\n",
      "Época 13000, Precisión: 0.9900\n",
      "Época 14000, Precisión: 1.0000\n",
      "¡Todas las combinaciones han sido aprendidas correctamente! Deteniendo entrenamiento.\n",
      "Precisión final: 1.0000\n"
     ]
    }
   ],
   "source": [
    "initial_params = load_initial_params(params_file_path)\n",
    "\n",
    "# Entrenamiento principal\n",
    "rng = random.PRNGKey(10)\n",
    "state = load_train_state(rng, learning_rate=0.01, initial_params=initial_params)\n",
    "#state = create_train_state(rng, learning_rate=0.001)\n",
    "epochs = 100000\n",
    "batch_size = 100\n",
    "\n",
    "for epoch in range(epochs):\n",
    "    # Entrenamiento por lotes\n",
    "    for i in range(0, len(x_train), batch_size):\n",
    "        x_batch = x_train[i:i + batch_size]\n",
    "        y_batch = y_train[i:i + batch_size]\n",
    "        state = train_step(state, x_batch, y_batch)\n",
    "\n",
    "    # Evaluación al final de la época\n",
    "    if (epoch + 1) % 1000 == 0 or epoch == 0:\n",
    "        accuracy = evaluate(state.params, x_val, y_val)\n",
    "        print(f\"Época {epoch + 1}, Precisión: {accuracy:.4f}\")\n",
    "    if accuracy == 1.0:\n",
    "        print(\"¡Todas las combinaciones han sido aprendidas correctamente! Deteniendo entrenamiento.\")\n",
    "        break\n",
    "\n",
    "# Evaluación final\n",
    "final_accuracy = evaluate(state.params, x_val, y_val)\n",
    "print(f\"Precisión final: {final_accuracy:.4f}\")"
   ]
  },
  {
   "cell_type": "code",
   "execution_count": 21,
   "id": "12f4cfbd-e10a-4d88-a285-66a78172bb54",
   "metadata": {},
   "outputs": [
    {
     "name": "stdout",
     "output_type": "stream",
     "text": [
      "(100,)\n",
      "    x1  x2  y (real)  pred\n",
      "0    0   0         0     0\n",
      "1    0   1         0     0\n",
      "2    0   2         0     0\n",
      "3    0   3         0     0\n",
      "4    0   4         0     0\n",
      "..  ..  ..       ...   ...\n",
      "95   9   5         1     1\n",
      "96   9   6         1     1\n",
      "97   9   7         1     1\n",
      "98   9   8         1     1\n",
      "99   9   9         1     1\n",
      "\n",
      "[100 rows x 4 columns]\n"
     ]
    }
   ],
   "source": [
    "# Paso final: Mostrar predicciones\n",
    "def get_predictions(state, x, y):\n",
    "    logits = carry_LSTMModel().apply({\"params\": state.params}, x)\n",
    "    predictions = jnp.argmax(logits, axis=-1)  # Predicciones del modelo\n",
    "    true_labels = jnp.argmax(y, axis=-1)  # Etiquetas reales\n",
    "    return predictions, true_labels\n",
    "\n",
    "# Obtener todas las predicciones\n",
    "preds, true_labels = get_predictions(state, x_val, y_val)\n",
    "print(preds.shape)\n",
    "# Crear una tabla con las entradas, etiquetas reales y predicciones\n",
    "results = []\n",
    "for i in range(len(x_val)):\n",
    "    x1 = x_val[i, 0, 0].item()  # Extraer x1 (scalar)\n",
    "    x2 = x_val[i, 0, 1].item()  # Extraer x2 (scalar)\n",
    "    y_true = true_labels[i].item()  # Etiqueta real (scalar)\n",
    "    y_pred = preds[i].item()  # Predicción (scalar)\n",
    "    results.append({\"x1\": x1, \"x2\": x2, \"y (real)\": y_true, \"pred\": y_pred})\n",
    "\n",
    "# Convertir a DataFrame para mostrarlo como tabla\n",
    "df_results = pd.DataFrame(results)\n",
    "print(df_results)"
   ]
  },
  {
   "cell_type": "code",
   "execution_count": 22,
   "id": "b99a3c1a-419d-4066-bbf8-d56a778c6253",
   "metadata": {},
   "outputs": [
    {
     "name": "stdout",
     "output_type": "stream",
     "text": [
      "Modelo guardado en 'D:/OneDrive - Universidad Complutense de Madrid (UCM)/Doctorado/Curriculum_Learning/JAX_MODULES-Easy_Multidigit_Addition_Decimal/Modules\\carry_module_JAX.pkl'\n"
     ]
    }
   ],
   "source": [
    "folder = 'D:/OneDrive - Universidad Complutense de Madrid (UCM)/Doctorado/Curriculum_Learning/JAX_MODULES-Easy_Multidigit_Addition_Decimal/Modules'\n",
    "os.makedirs(folder, exist_ok=True)\n",
    "\n",
    "# Guardar el modelo en la carpeta 'Hola'\n",
    "model_path = os.path.join(folder, \"carry_module_JAX.pkl\")\n",
    "with open(model_path, \"wb\") as f:\n",
    "    pickle.dump(state.params, f)\n",
    "\n",
    "print(f\"Modelo guardado en '{model_path}'\")"
   ]
  },
  {
   "cell_type": "code",
   "execution_count": null,
   "id": "82520286-6de4-4ba2-8026-c7c5c44216d7",
   "metadata": {},
   "outputs": [],
   "source": []
  }
 ],
 "metadata": {
  "kernelspec": {
   "display_name": "Python 3 (ipykernel)",
   "language": "python",
   "name": "python3"
  },
  "language_info": {
   "codemirror_mode": {
    "name": "ipython",
    "version": 3
   },
   "file_extension": ".py",
   "mimetype": "text/x-python",
   "name": "python",
   "nbconvert_exporter": "python",
   "pygments_lexer": "ipython3",
   "version": "3.10.11"
  }
 },
 "nbformat": 4,
 "nbformat_minor": 5
}
